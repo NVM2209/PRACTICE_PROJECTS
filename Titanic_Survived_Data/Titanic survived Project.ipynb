{
 "cells": [
  {
   "cell_type": "markdown",
   "id": "55e67977",
   "metadata": {},
   "source": [
    "# TITANIC SURVIVED  | PHASE-2 | PROJECT-2\n",
    "FlipRoboTechnology | Batch - DS2301 | Submitted By :- Neha Vibhor Mittal"
   ]
  },
  {
   "cell_type": "markdown",
   "id": "1798782c",
   "metadata": {},
   "source": [
    "#### DATASET INFORMATION-\n",
    "\n",
    "-This dataset is available on : 'https://github.com/dsrscientist/dataset1/blob/master/titanic_train.csv'\n",
    "        \n",
    "   - The Titanic Problem is based on the sinking of the ‘Unsinkable’ ship Titanic in early 1912. It gives you information about multiple people like their ages, sexes, sibling counts, embarkment points, and whether or not they survived the disaster. \n",
    "Based on these features, you have to predict if an arbitrary passenger on Titanic would survive the sinking or not. \n",
    "\n",
    "\n",
    "   - This Dataset includes over 891 records and 12 attributes."
   ]
  },
  {
   "cell_type": "markdown",
   "id": "9f2bb808",
   "metadata": {},
   "source": [
    "#### PROBLEM IDENTIFICATION -\n",
    " \n",
    " - To predict the arbitary passenger on titanic would survive or not."
   ]
  },
  {
   "cell_type": "markdown",
   "id": "00355595",
   "metadata": {},
   "source": [
    "#### Target Variable :  \n",
    "  - Survived   ( Passenger has survived or not.)\n",
    "  - We observed that this dataset can be viewed as Binary Logistic Regression problem(classification problem).Here,we will use the concept of predictive modeling."
   ]
  },
  {
   "cell_type": "markdown",
   "id": "7ebc5379",
   "metadata": {},
   "source": [
    "#### Labels :\n",
    "   - There are 12 attributes in the given dataset.\n",
    "    \n",
    "  - 1) -  PassengerId : Id's of passengers\n",
    "  - 2) -  Survived  :Survival (0 = No; 1 = Yes)\n",
    "  - 3) -  Pclass\t:Passenger Class (1 = 1st; 2 = 2nd; 3 = 3rd)\n",
    "  - 4) -  Name\t    :Name of the passenger\n",
    "  - 5) -  Sex\t    :Sex of the passenger (Male or female)\n",
    "  - 6) -  Age\t    :Age of the passenger\n",
    "  - 7) -  SibSp     :Number of Siblings/Spouses Aboard\n",
    "  - 8) -  Parch     :Number of Parents/Children Aboard\n",
    "  - 9) -  Ticket    :Ticket Number\n",
    "  - 10) - Fare      :Passenger Fare\n",
    "  - 11) - Cabin     :Cabin number of the passengers\n",
    "  - 12) - Embarked  :Port of Embarkation (C = Cherbourg; Q = Queenstown; S = Southampton)\t\t\n"
   ]
  },
  {
   "cell_type": "markdown",
   "id": "c2eb2314",
   "metadata": {},
   "source": [
    "#### IMPORTING NECESSARY LIBRARIES-"
   ]
  },
  {
   "cell_type": "code",
   "execution_count": 1,
   "id": "d703e183",
   "metadata": {},
   "outputs": [],
   "source": [
    "#importing the libraries\n",
    "import pandas as pd\n",
    "import numpy as np\n",
    "import matplotlib.pyplot as plt\n",
    "import seaborn as sns\n",
    "\n",
    "import warnings \n",
    "warnings.filterwarnings('ignore')"
   ]
  },
  {
   "cell_type": "markdown",
   "id": "7b4e4873",
   "metadata": {},
   "source": [
    "#### LOAD THE DATASET"
   ]
  },
  {
   "cell_type": "code",
   "execution_count": 2,
   "id": "285fe612",
   "metadata": {},
   "outputs": [
    {
     "data": {
      "text/html": [
       "<div>\n",
       "<style scoped>\n",
       "    .dataframe tbody tr th:only-of-type {\n",
       "        vertical-align: middle;\n",
       "    }\n",
       "\n",
       "    .dataframe tbody tr th {\n",
       "        vertical-align: top;\n",
       "    }\n",
       "\n",
       "    .dataframe thead th {\n",
       "        text-align: right;\n",
       "    }\n",
       "</style>\n",
       "<table border=\"1\" class=\"dataframe\">\n",
       "  <thead>\n",
       "    <tr style=\"text-align: right;\">\n",
       "      <th></th>\n",
       "      <th>PassengerId</th>\n",
       "      <th>Survived</th>\n",
       "      <th>Pclass</th>\n",
       "      <th>Name</th>\n",
       "      <th>Sex</th>\n",
       "      <th>Age</th>\n",
       "      <th>SibSp</th>\n",
       "      <th>Parch</th>\n",
       "      <th>Ticket</th>\n",
       "      <th>Fare</th>\n",
       "      <th>Cabin</th>\n",
       "      <th>Embarked</th>\n",
       "    </tr>\n",
       "  </thead>\n",
       "  <tbody>\n",
       "    <tr>\n",
       "      <th>0</th>\n",
       "      <td>1</td>\n",
       "      <td>0</td>\n",
       "      <td>3</td>\n",
       "      <td>Braund, Mr. Owen Harris</td>\n",
       "      <td>male</td>\n",
       "      <td>22.0</td>\n",
       "      <td>1</td>\n",
       "      <td>0</td>\n",
       "      <td>A/5 21171</td>\n",
       "      <td>7.2500</td>\n",
       "      <td>NaN</td>\n",
       "      <td>S</td>\n",
       "    </tr>\n",
       "    <tr>\n",
       "      <th>1</th>\n",
       "      <td>2</td>\n",
       "      <td>1</td>\n",
       "      <td>1</td>\n",
       "      <td>Cumings, Mrs. John Bradley (Florence Briggs Th...</td>\n",
       "      <td>female</td>\n",
       "      <td>38.0</td>\n",
       "      <td>1</td>\n",
       "      <td>0</td>\n",
       "      <td>PC 17599</td>\n",
       "      <td>71.2833</td>\n",
       "      <td>C85</td>\n",
       "      <td>C</td>\n",
       "    </tr>\n",
       "    <tr>\n",
       "      <th>2</th>\n",
       "      <td>3</td>\n",
       "      <td>1</td>\n",
       "      <td>3</td>\n",
       "      <td>Heikkinen, Miss. Laina</td>\n",
       "      <td>female</td>\n",
       "      <td>26.0</td>\n",
       "      <td>0</td>\n",
       "      <td>0</td>\n",
       "      <td>STON/O2. 3101282</td>\n",
       "      <td>7.9250</td>\n",
       "      <td>NaN</td>\n",
       "      <td>S</td>\n",
       "    </tr>\n",
       "    <tr>\n",
       "      <th>3</th>\n",
       "      <td>4</td>\n",
       "      <td>1</td>\n",
       "      <td>1</td>\n",
       "      <td>Futrelle, Mrs. Jacques Heath (Lily May Peel)</td>\n",
       "      <td>female</td>\n",
       "      <td>35.0</td>\n",
       "      <td>1</td>\n",
       "      <td>0</td>\n",
       "      <td>113803</td>\n",
       "      <td>53.1000</td>\n",
       "      <td>C123</td>\n",
       "      <td>S</td>\n",
       "    </tr>\n",
       "    <tr>\n",
       "      <th>4</th>\n",
       "      <td>5</td>\n",
       "      <td>0</td>\n",
       "      <td>3</td>\n",
       "      <td>Allen, Mr. William Henry</td>\n",
       "      <td>male</td>\n",
       "      <td>35.0</td>\n",
       "      <td>0</td>\n",
       "      <td>0</td>\n",
       "      <td>373450</td>\n",
       "      <td>8.0500</td>\n",
       "      <td>NaN</td>\n",
       "      <td>S</td>\n",
       "    </tr>\n",
       "    <tr>\n",
       "      <th>...</th>\n",
       "      <td>...</td>\n",
       "      <td>...</td>\n",
       "      <td>...</td>\n",
       "      <td>...</td>\n",
       "      <td>...</td>\n",
       "      <td>...</td>\n",
       "      <td>...</td>\n",
       "      <td>...</td>\n",
       "      <td>...</td>\n",
       "      <td>...</td>\n",
       "      <td>...</td>\n",
       "      <td>...</td>\n",
       "    </tr>\n",
       "    <tr>\n",
       "      <th>886</th>\n",
       "      <td>887</td>\n",
       "      <td>0</td>\n",
       "      <td>2</td>\n",
       "      <td>Montvila, Rev. Juozas</td>\n",
       "      <td>male</td>\n",
       "      <td>27.0</td>\n",
       "      <td>0</td>\n",
       "      <td>0</td>\n",
       "      <td>211536</td>\n",
       "      <td>13.0000</td>\n",
       "      <td>NaN</td>\n",
       "      <td>S</td>\n",
       "    </tr>\n",
       "    <tr>\n",
       "      <th>887</th>\n",
       "      <td>888</td>\n",
       "      <td>1</td>\n",
       "      <td>1</td>\n",
       "      <td>Graham, Miss. Margaret Edith</td>\n",
       "      <td>female</td>\n",
       "      <td>19.0</td>\n",
       "      <td>0</td>\n",
       "      <td>0</td>\n",
       "      <td>112053</td>\n",
       "      <td>30.0000</td>\n",
       "      <td>B42</td>\n",
       "      <td>S</td>\n",
       "    </tr>\n",
       "    <tr>\n",
       "      <th>888</th>\n",
       "      <td>889</td>\n",
       "      <td>0</td>\n",
       "      <td>3</td>\n",
       "      <td>Johnston, Miss. Catherine Helen \"Carrie\"</td>\n",
       "      <td>female</td>\n",
       "      <td>NaN</td>\n",
       "      <td>1</td>\n",
       "      <td>2</td>\n",
       "      <td>W./C. 6607</td>\n",
       "      <td>23.4500</td>\n",
       "      <td>NaN</td>\n",
       "      <td>S</td>\n",
       "    </tr>\n",
       "    <tr>\n",
       "      <th>889</th>\n",
       "      <td>890</td>\n",
       "      <td>1</td>\n",
       "      <td>1</td>\n",
       "      <td>Behr, Mr. Karl Howell</td>\n",
       "      <td>male</td>\n",
       "      <td>26.0</td>\n",
       "      <td>0</td>\n",
       "      <td>0</td>\n",
       "      <td>111369</td>\n",
       "      <td>30.0000</td>\n",
       "      <td>C148</td>\n",
       "      <td>C</td>\n",
       "    </tr>\n",
       "    <tr>\n",
       "      <th>890</th>\n",
       "      <td>891</td>\n",
       "      <td>0</td>\n",
       "      <td>3</td>\n",
       "      <td>Dooley, Mr. Patrick</td>\n",
       "      <td>male</td>\n",
       "      <td>32.0</td>\n",
       "      <td>0</td>\n",
       "      <td>0</td>\n",
       "      <td>370376</td>\n",
       "      <td>7.7500</td>\n",
       "      <td>NaN</td>\n",
       "      <td>Q</td>\n",
       "    </tr>\n",
       "  </tbody>\n",
       "</table>\n",
       "<p>891 rows × 12 columns</p>\n",
       "</div>"
      ],
      "text/plain": [
       "     PassengerId  Survived  Pclass  \\\n",
       "0              1         0       3   \n",
       "1              2         1       1   \n",
       "2              3         1       3   \n",
       "3              4         1       1   \n",
       "4              5         0       3   \n",
       "..           ...       ...     ...   \n",
       "886          887         0       2   \n",
       "887          888         1       1   \n",
       "888          889         0       3   \n",
       "889          890         1       1   \n",
       "890          891         0       3   \n",
       "\n",
       "                                                  Name     Sex   Age  SibSp  \\\n",
       "0                              Braund, Mr. Owen Harris    male  22.0      1   \n",
       "1    Cumings, Mrs. John Bradley (Florence Briggs Th...  female  38.0      1   \n",
       "2                               Heikkinen, Miss. Laina  female  26.0      0   \n",
       "3         Futrelle, Mrs. Jacques Heath (Lily May Peel)  female  35.0      1   \n",
       "4                             Allen, Mr. William Henry    male  35.0      0   \n",
       "..                                                 ...     ...   ...    ...   \n",
       "886                              Montvila, Rev. Juozas    male  27.0      0   \n",
       "887                       Graham, Miss. Margaret Edith  female  19.0      0   \n",
       "888           Johnston, Miss. Catherine Helen \"Carrie\"  female   NaN      1   \n",
       "889                              Behr, Mr. Karl Howell    male  26.0      0   \n",
       "890                                Dooley, Mr. Patrick    male  32.0      0   \n",
       "\n",
       "     Parch            Ticket     Fare Cabin Embarked  \n",
       "0        0         A/5 21171   7.2500   NaN        S  \n",
       "1        0          PC 17599  71.2833   C85        C  \n",
       "2        0  STON/O2. 3101282   7.9250   NaN        S  \n",
       "3        0            113803  53.1000  C123        S  \n",
       "4        0            373450   8.0500   NaN        S  \n",
       "..     ...               ...      ...   ...      ...  \n",
       "886      0            211536  13.0000   NaN        S  \n",
       "887      0            112053  30.0000   B42        S  \n",
       "888      2        W./C. 6607  23.4500   NaN        S  \n",
       "889      0            111369  30.0000  C148        C  \n",
       "890      0            370376   7.7500   NaN        Q  \n",
       "\n",
       "[891 rows x 12 columns]"
      ]
     },
     "execution_count": 2,
     "metadata": {},
     "output_type": "execute_result"
    }
   ],
   "source": [
    "#Loading the dataset\n",
    "\n",
    "ts = pd.read_csv('C:/Users/nehas/NehaProject/Titanic_Survived Dataset/titanic_train.csv')\n",
    "ts     "
   ]
  },
  {
   "cell_type": "code",
   "execution_count": 3,
   "id": "9248dafb",
   "metadata": {},
   "outputs": [
    {
     "data": {
      "text/html": [
       "<div>\n",
       "<style scoped>\n",
       "    .dataframe tbody tr th:only-of-type {\n",
       "        vertical-align: middle;\n",
       "    }\n",
       "\n",
       "    .dataframe tbody tr th {\n",
       "        vertical-align: top;\n",
       "    }\n",
       "\n",
       "    .dataframe thead th {\n",
       "        text-align: right;\n",
       "    }\n",
       "</style>\n",
       "<table border=\"1\" class=\"dataframe\">\n",
       "  <thead>\n",
       "    <tr style=\"text-align: right;\">\n",
       "      <th></th>\n",
       "      <th>PassengerId</th>\n",
       "      <th>Survived</th>\n",
       "      <th>Pclass</th>\n",
       "      <th>Name</th>\n",
       "      <th>Sex</th>\n",
       "      <th>Age</th>\n",
       "      <th>SibSp</th>\n",
       "      <th>Parch</th>\n",
       "      <th>Ticket</th>\n",
       "      <th>Fare</th>\n",
       "      <th>Cabin</th>\n",
       "      <th>Embarked</th>\n",
       "    </tr>\n",
       "  </thead>\n",
       "  <tbody>\n",
       "    <tr>\n",
       "      <th>0</th>\n",
       "      <td>1</td>\n",
       "      <td>0</td>\n",
       "      <td>3</td>\n",
       "      <td>Braund, Mr. Owen Harris</td>\n",
       "      <td>male</td>\n",
       "      <td>22.0</td>\n",
       "      <td>1</td>\n",
       "      <td>0</td>\n",
       "      <td>A/5 21171</td>\n",
       "      <td>7.2500</td>\n",
       "      <td>NaN</td>\n",
       "      <td>S</td>\n",
       "    </tr>\n",
       "    <tr>\n",
       "      <th>1</th>\n",
       "      <td>2</td>\n",
       "      <td>1</td>\n",
       "      <td>1</td>\n",
       "      <td>Cumings, Mrs. John Bradley (Florence Briggs Th...</td>\n",
       "      <td>female</td>\n",
       "      <td>38.0</td>\n",
       "      <td>1</td>\n",
       "      <td>0</td>\n",
       "      <td>PC 17599</td>\n",
       "      <td>71.2833</td>\n",
       "      <td>C85</td>\n",
       "      <td>C</td>\n",
       "    </tr>\n",
       "    <tr>\n",
       "      <th>2</th>\n",
       "      <td>3</td>\n",
       "      <td>1</td>\n",
       "      <td>3</td>\n",
       "      <td>Heikkinen, Miss. Laina</td>\n",
       "      <td>female</td>\n",
       "      <td>26.0</td>\n",
       "      <td>0</td>\n",
       "      <td>0</td>\n",
       "      <td>STON/O2. 3101282</td>\n",
       "      <td>7.9250</td>\n",
       "      <td>NaN</td>\n",
       "      <td>S</td>\n",
       "    </tr>\n",
       "    <tr>\n",
       "      <th>3</th>\n",
       "      <td>4</td>\n",
       "      <td>1</td>\n",
       "      <td>1</td>\n",
       "      <td>Futrelle, Mrs. Jacques Heath (Lily May Peel)</td>\n",
       "      <td>female</td>\n",
       "      <td>35.0</td>\n",
       "      <td>1</td>\n",
       "      <td>0</td>\n",
       "      <td>113803</td>\n",
       "      <td>53.1000</td>\n",
       "      <td>C123</td>\n",
       "      <td>S</td>\n",
       "    </tr>\n",
       "    <tr>\n",
       "      <th>4</th>\n",
       "      <td>5</td>\n",
       "      <td>0</td>\n",
       "      <td>3</td>\n",
       "      <td>Allen, Mr. William Henry</td>\n",
       "      <td>male</td>\n",
       "      <td>35.0</td>\n",
       "      <td>0</td>\n",
       "      <td>0</td>\n",
       "      <td>373450</td>\n",
       "      <td>8.0500</td>\n",
       "      <td>NaN</td>\n",
       "      <td>S</td>\n",
       "    </tr>\n",
       "  </tbody>\n",
       "</table>\n",
       "</div>"
      ],
      "text/plain": [
       "   PassengerId  Survived  Pclass  \\\n",
       "0            1         0       3   \n",
       "1            2         1       1   \n",
       "2            3         1       3   \n",
       "3            4         1       1   \n",
       "4            5         0       3   \n",
       "\n",
       "                                                Name     Sex   Age  SibSp  \\\n",
       "0                            Braund, Mr. Owen Harris    male  22.0      1   \n",
       "1  Cumings, Mrs. John Bradley (Florence Briggs Th...  female  38.0      1   \n",
       "2                             Heikkinen, Miss. Laina  female  26.0      0   \n",
       "3       Futrelle, Mrs. Jacques Heath (Lily May Peel)  female  35.0      1   \n",
       "4                           Allen, Mr. William Henry    male  35.0      0   \n",
       "\n",
       "   Parch            Ticket     Fare Cabin Embarked  \n",
       "0      0         A/5 21171   7.2500   NaN        S  \n",
       "1      0          PC 17599  71.2833   C85        C  \n",
       "2      0  STON/O2. 3101282   7.9250   NaN        S  \n",
       "3      0            113803  53.1000  C123        S  \n",
       "4      0            373450   8.0500   NaN        S  "
      ]
     },
     "execution_count": 3,
     "metadata": {},
     "output_type": "execute_result"
    }
   ],
   "source": [
    "# head()method will show the top 5 rows and columns .\n",
    "\n",
    "ts.head() "
   ]
  },
  {
   "cell_type": "code",
   "execution_count": 4,
   "id": "e95c2ee9",
   "metadata": {},
   "outputs": [
    {
     "data": {
      "text/plain": [
       "(891, 12)"
      ]
     },
     "execution_count": 4,
     "metadata": {},
     "output_type": "execute_result"
    }
   ],
   "source": [
    "# checking the shape of dataset\n",
    "\n",
    "ts.shape   "
   ]
  },
  {
   "cell_type": "markdown",
   "id": "cfa3a012",
   "metadata": {},
   "source": [
    "- There are 891 instances and 12 attributes which includes target attribute as well."
   ]
  },
  {
   "cell_type": "code",
   "execution_count": 5,
   "id": "7a3c4231",
   "metadata": {},
   "outputs": [
    {
     "data": {
      "text/plain": [
       "Index(['PassengerId', 'Survived', 'Pclass', 'Name', 'Sex', 'Age', 'SibSp',\n",
       "       'Parch', 'Ticket', 'Fare', 'Cabin', 'Embarked'],\n",
       "      dtype='object')"
      ]
     },
     "execution_count": 5,
     "metadata": {},
     "output_type": "execute_result"
    }
   ],
   "source": [
    "# name of the columns\n",
    "\n",
    "ts.columns"
   ]
  },
  {
   "cell_type": "code",
   "execution_count": 6,
   "id": "8bb839cf",
   "metadata": {},
   "outputs": [
    {
     "data": {
      "text/plain": [
       "PassengerId      int64\n",
       "Survived         int64\n",
       "Pclass           int64\n",
       "Name            object\n",
       "Sex             object\n",
       "Age            float64\n",
       "SibSp            int64\n",
       "Parch            int64\n",
       "Ticket          object\n",
       "Fare           float64\n",
       "Cabin           object\n",
       "Embarked        object\n",
       "dtype: object"
      ]
     },
     "execution_count": 6,
     "metadata": {},
     "output_type": "execute_result"
    }
   ],
   "source": [
    "# checking data types\n",
    "\n",
    "ts.dtypes"
   ]
  },
  {
   "cell_type": "markdown",
   "id": "56dbb195",
   "metadata": {},
   "source": [
    "#### Key Observations-\n",
    "\n",
    "- There are 7 numerical data including float datatypes.\n",
    "- Out of 7 numerical data, 'Age' and 'fare' have float datatypes and 5 other attributes ('Name','Sex','Ticket','Cabin', and 'Embarked') have object datatypes .\n"
   ]
  },
  {
   "cell_type": "code",
   "execution_count": 7,
   "id": "5b4315c5",
   "metadata": {},
   "outputs": [
    {
     "name": "stdout",
     "output_type": "stream",
     "text": [
      "<class 'pandas.core.frame.DataFrame'>\n",
      "RangeIndex: 891 entries, 0 to 890\n",
      "Data columns (total 12 columns):\n",
      " #   Column       Non-Null Count  Dtype  \n",
      "---  ------       --------------  -----  \n",
      " 0   PassengerId  891 non-null    int64  \n",
      " 1   Survived     891 non-null    int64  \n",
      " 2   Pclass       891 non-null    int64  \n",
      " 3   Name         891 non-null    object \n",
      " 4   Sex          891 non-null    object \n",
      " 5   Age          714 non-null    float64\n",
      " 6   SibSp        891 non-null    int64  \n",
      " 7   Parch        891 non-null    int64  \n",
      " 8   Ticket       891 non-null    object \n",
      " 9   Fare         891 non-null    float64\n",
      " 10  Cabin        204 non-null    object \n",
      " 11  Embarked     889 non-null    object \n",
      "dtypes: float64(2), int64(5), object(5)\n",
      "memory usage: 83.7+ KB\n"
     ]
    }
   ],
   "source": [
    "# information of dataset\n",
    "\n",
    "ts.info() "
   ]
  },
  {
   "cell_type": "markdown",
   "id": "44c5b956",
   "metadata": {},
   "source": [
    "#### Key Observations-\n",
    "\n",
    "- The total number of entries is 891  with total 12 columns.\n",
    "- This data has 7 numerical data and 5 object datatypes.\n",
    "- The second column give us an idea about how big the dataset and how many non-null values are there for each field.\n",
    "- There are Null values present in 'Cabin','Embarked' and 'Age' columns.\n",
    "- In the above dataset, the target is to predict the 'Survived' passengers.As observed ,'Survived' is a Categorical data.\n",
    "- The total memory usage is 83.7+kb.\n",
    "    "
   ]
  },
  {
   "cell_type": "code",
   "execution_count": 8,
   "id": "6c1417e2",
   "metadata": {},
   "outputs": [
    {
     "data": {
      "text/html": [
       "<div>\n",
       "<style scoped>\n",
       "    .dataframe tbody tr th:only-of-type {\n",
       "        vertical-align: middle;\n",
       "    }\n",
       "\n",
       "    .dataframe tbody tr th {\n",
       "        vertical-align: top;\n",
       "    }\n",
       "\n",
       "    .dataframe thead th {\n",
       "        text-align: right;\n",
       "    }\n",
       "</style>\n",
       "<table border=\"1\" class=\"dataframe\">\n",
       "  <thead>\n",
       "    <tr style=\"text-align: right;\">\n",
       "      <th></th>\n",
       "      <th>PassengerId</th>\n",
       "      <th>Survived</th>\n",
       "      <th>Pclass</th>\n",
       "      <th>Age</th>\n",
       "      <th>SibSp</th>\n",
       "      <th>Parch</th>\n",
       "      <th>Fare</th>\n",
       "    </tr>\n",
       "  </thead>\n",
       "  <tbody>\n",
       "    <tr>\n",
       "      <th>count</th>\n",
       "      <td>891.000000</td>\n",
       "      <td>891.000000</td>\n",
       "      <td>891.000000</td>\n",
       "      <td>714.000000</td>\n",
       "      <td>891.000000</td>\n",
       "      <td>891.000000</td>\n",
       "      <td>891.000000</td>\n",
       "    </tr>\n",
       "    <tr>\n",
       "      <th>mean</th>\n",
       "      <td>446.000000</td>\n",
       "      <td>0.383838</td>\n",
       "      <td>2.308642</td>\n",
       "      <td>29.699118</td>\n",
       "      <td>0.523008</td>\n",
       "      <td>0.381594</td>\n",
       "      <td>32.204208</td>\n",
       "    </tr>\n",
       "    <tr>\n",
       "      <th>std</th>\n",
       "      <td>257.353842</td>\n",
       "      <td>0.486592</td>\n",
       "      <td>0.836071</td>\n",
       "      <td>14.526497</td>\n",
       "      <td>1.102743</td>\n",
       "      <td>0.806057</td>\n",
       "      <td>49.693429</td>\n",
       "    </tr>\n",
       "    <tr>\n",
       "      <th>min</th>\n",
       "      <td>1.000000</td>\n",
       "      <td>0.000000</td>\n",
       "      <td>1.000000</td>\n",
       "      <td>0.420000</td>\n",
       "      <td>0.000000</td>\n",
       "      <td>0.000000</td>\n",
       "      <td>0.000000</td>\n",
       "    </tr>\n",
       "    <tr>\n",
       "      <th>25%</th>\n",
       "      <td>223.500000</td>\n",
       "      <td>0.000000</td>\n",
       "      <td>2.000000</td>\n",
       "      <td>20.125000</td>\n",
       "      <td>0.000000</td>\n",
       "      <td>0.000000</td>\n",
       "      <td>7.910400</td>\n",
       "    </tr>\n",
       "    <tr>\n",
       "      <th>50%</th>\n",
       "      <td>446.000000</td>\n",
       "      <td>0.000000</td>\n",
       "      <td>3.000000</td>\n",
       "      <td>28.000000</td>\n",
       "      <td>0.000000</td>\n",
       "      <td>0.000000</td>\n",
       "      <td>14.454200</td>\n",
       "    </tr>\n",
       "    <tr>\n",
       "      <th>75%</th>\n",
       "      <td>668.500000</td>\n",
       "      <td>1.000000</td>\n",
       "      <td>3.000000</td>\n",
       "      <td>38.000000</td>\n",
       "      <td>1.000000</td>\n",
       "      <td>0.000000</td>\n",
       "      <td>31.000000</td>\n",
       "    </tr>\n",
       "    <tr>\n",
       "      <th>max</th>\n",
       "      <td>891.000000</td>\n",
       "      <td>1.000000</td>\n",
       "      <td>3.000000</td>\n",
       "      <td>80.000000</td>\n",
       "      <td>8.000000</td>\n",
       "      <td>6.000000</td>\n",
       "      <td>512.329200</td>\n",
       "    </tr>\n",
       "  </tbody>\n",
       "</table>\n",
       "</div>"
      ],
      "text/plain": [
       "       PassengerId    Survived      Pclass         Age       SibSp  \\\n",
       "count   891.000000  891.000000  891.000000  714.000000  891.000000   \n",
       "mean    446.000000    0.383838    2.308642   29.699118    0.523008   \n",
       "std     257.353842    0.486592    0.836071   14.526497    1.102743   \n",
       "min       1.000000    0.000000    1.000000    0.420000    0.000000   \n",
       "25%     223.500000    0.000000    2.000000   20.125000    0.000000   \n",
       "50%     446.000000    0.000000    3.000000   28.000000    0.000000   \n",
       "75%     668.500000    1.000000    3.000000   38.000000    1.000000   \n",
       "max     891.000000    1.000000    3.000000   80.000000    8.000000   \n",
       "\n",
       "            Parch        Fare  \n",
       "count  891.000000  891.000000  \n",
       "mean     0.381594   32.204208  \n",
       "std      0.806057   49.693429  \n",
       "min      0.000000    0.000000  \n",
       "25%      0.000000    7.910400  \n",
       "50%      0.000000   14.454200  \n",
       "75%      0.000000   31.000000  \n",
       "max      6.000000  512.329200  "
      ]
     },
     "execution_count": 8,
     "metadata": {},
     "output_type": "execute_result"
    }
   ],
   "source": [
    "# Getting statistical summary\n",
    "\n",
    "ts.describe()  "
   ]
  },
  {
   "cell_type": "markdown",
   "id": "ab9cf641",
   "metadata": {},
   "source": [
    "#### Key Observations -\n",
    "\n",
    "\n",
    "- With the about data , we can find that Total samples are 891 ,also we can detect some features that contain missing values, like the ‘Age’ feature (714 out of 891 total).\n",
    "- Age is normally distributed but 'fare' is right skewed (mean>median>mode).\n",
    "- As the difference between 75% , standard deviation and max value is very huge , this indicates that the Outliers could also present in 'fare' Attribute ."
   ]
  },
  {
   "cell_type": "code",
   "execution_count": 9,
   "id": "fb4f416e",
   "metadata": {},
   "outputs": [
    {
     "data": {
      "text/plain": [
       "PassengerId      0\n",
       "Survived         0\n",
       "Pclass           0\n",
       "Name             0\n",
       "Sex              0\n",
       "Age            177\n",
       "SibSp            0\n",
       "Parch            0\n",
       "Ticket           0\n",
       "Fare             0\n",
       "Cabin          687\n",
       "Embarked         2\n",
       "dtype: int64"
      ]
     },
     "execution_count": 9,
     "metadata": {},
     "output_type": "execute_result"
    }
   ],
   "source": [
    "# Checking the missing values in the dataset\n",
    "\n",
    "ts.isnull().sum()"
   ]
  },
  {
   "cell_type": "markdown",
   "id": "60f475c7",
   "metadata": {},
   "source": [
    "#### Key Observations - \n",
    "\n",
    "- 'Cabin' has the highest null values i.e 687 null values.Out of 891 rows, 687 has missing values. It will be good to drop the 'Cabin' column as cabin number would not help in predicting the passenger on Titanic that would survive the sinking or not.\n",
    "\n",
    "- 'Age' has 177 missing values. It will be good to fill the missing values with most frequent (Mean) ages in the column.\n",
    "\n",
    "- 'Embarked' has 2 missing values and need to filled with mode."
   ]
  },
  {
   "cell_type": "markdown",
   "id": "ac4c8eed",
   "metadata": {},
   "source": [
    "#### HANDLING MISSING VALUES - "
   ]
  },
  {
   "cell_type": "code",
   "execution_count": 10,
   "id": "98ffd8e0",
   "metadata": {},
   "outputs": [
    {
     "data": {
      "text/plain": [
       "PassengerId    0.000000\n",
       "Survived       0.000000\n",
       "Pclass         0.000000\n",
       "Name           0.000000\n",
       "Sex            0.000000\n",
       "Age            0.198653\n",
       "SibSp          0.000000\n",
       "Parch          0.000000\n",
       "Ticket         0.000000\n",
       "Fare           0.000000\n",
       "Cabin          0.771044\n",
       "Embarked       0.002245\n",
       "dtype: float64"
      ]
     },
     "execution_count": 10,
     "metadata": {},
     "output_type": "execute_result"
    }
   ],
   "source": [
    "#Getting percentage of null values present our dataset\n",
    "ts.isnull().mean()"
   ]
  },
  {
   "cell_type": "code",
   "execution_count": 11,
   "id": "9e3737fa",
   "metadata": {},
   "outputs": [
    {
     "data": {
      "text/plain": [
       "<AxesSubplot:title={'center':'Null values '}>"
      ]
     },
     "execution_count": 11,
     "metadata": {},
     "output_type": "execute_result"
    },
    {
     "data": {
      "image/png": "[encoded data removed]",
      "text/plain": [
       "<Figure size 720x432 with 2 Axes>"
      ]
     },
     "metadata": {
      "needs_background": "light"
     },
     "output_type": "display_data"
    }
   ],
   "source": [
    "plt.figure(figsize=(10,6))\n",
    "plt.title('Null values ',fontsize=15)\n",
    "\n",
    "sns.heatmap(ts.isnull())"
   ]
  },
  {
   "cell_type": "markdown",
   "id": "71bc27b9",
   "metadata": {},
   "source": [
    "#### Key Observations-\n",
    "\n",
    "- 'Cabin' consist Most of the Null Data so we will drop 'Cabin' column as it contains huge missing values while we can also observe few null data present in 'Age'.\n",
    "- We will check the value count of 'Embarked' column and Fill all the missing values of 'Age' and 'Embarked' columns using 'fillna' and with the help of mean() and mode().\n"
   ]
  },
  {
   "cell_type": "code",
   "execution_count": 12,
   "id": "2a4a6a02",
   "metadata": {},
   "outputs": [
    {
     "data": {
      "text/plain": [
       "S    644\n",
       "C    168\n",
       "Q     77\n",
       "Name: Embarked, dtype: int64"
      ]
     },
     "execution_count": 12,
     "metadata": {},
     "output_type": "execute_result"
    }
   ],
   "source": [
    "#checking values count for Embarked attribute \n",
    "\n",
    "ts['Embarked'].value_counts()"
   ]
  },
  {
   "cell_type": "code",
   "execution_count": 13,
   "id": "e530691b",
   "metadata": {},
   "outputs": [],
   "source": [
    "# Filling the missing value with fillna using mean and mode\n",
    "\n",
    "ts['Age'] = ts['Age'].fillna(ts['Age'].mean())\n",
    "\n",
    "ts['Embarked'] = ts['Embarked'].fillna(ts['Embarked'].mode()[0])"
   ]
  },
  {
   "cell_type": "code",
   "execution_count": 14,
   "id": "7f1b76d5",
   "metadata": {},
   "outputs": [],
   "source": [
    "# Dropping 'Cabin' as it is a non significant attribute with huge missing values and also other non-significant coloumns.\n",
    "\n",
    "ts.drop(['PassengerId','Name','Ticket','Cabin'],axis=1,inplace=True)"
   ]
  },
  {
   "cell_type": "code",
   "execution_count": 15,
   "id": "b9748bc2",
   "metadata": {},
   "outputs": [
    {
     "data": {
      "text/html": [
       "<div>\n",
       "<style scoped>\n",
       "    .dataframe tbody tr th:only-of-type {\n",
       "        vertical-align: middle;\n",
       "    }\n",
       "\n",
       "    .dataframe tbody tr th {\n",
       "        vertical-align: top;\n",
       "    }\n",
       "\n",
       "    .dataframe thead th {\n",
       "        text-align: right;\n",
       "    }\n",
       "</style>\n",
       "<table border=\"1\" class=\"dataframe\">\n",
       "  <thead>\n",
       "    <tr style=\"text-align: right;\">\n",
       "      <th></th>\n",
       "      <th>Survived</th>\n",
       "      <th>Pclass</th>\n",
       "      <th>Sex</th>\n",
       "      <th>Age</th>\n",
       "      <th>SibSp</th>\n",
       "      <th>Parch</th>\n",
       "      <th>Fare</th>\n",
       "      <th>Embarked</th>\n",
       "    </tr>\n",
       "  </thead>\n",
       "  <tbody>\n",
       "    <tr>\n",
       "      <th>0</th>\n",
       "      <td>0</td>\n",
       "      <td>3</td>\n",
       "      <td>male</td>\n",
       "      <td>22.000000</td>\n",
       "      <td>1</td>\n",
       "      <td>0</td>\n",
       "      <td>7.2500</td>\n",
       "      <td>S</td>\n",
       "    </tr>\n",
       "    <tr>\n",
       "      <th>1</th>\n",
       "      <td>1</td>\n",
       "      <td>1</td>\n",
       "      <td>female</td>\n",
       "      <td>38.000000</td>\n",
       "      <td>1</td>\n",
       "      <td>0</td>\n",
       "      <td>71.2833</td>\n",
       "      <td>C</td>\n",
       "    </tr>\n",
       "    <tr>\n",
       "      <th>2</th>\n",
       "      <td>1</td>\n",
       "      <td>3</td>\n",
       "      <td>female</td>\n",
       "      <td>26.000000</td>\n",
       "      <td>0</td>\n",
       "      <td>0</td>\n",
       "      <td>7.9250</td>\n",
       "      <td>S</td>\n",
       "    </tr>\n",
       "    <tr>\n",
       "      <th>3</th>\n",
       "      <td>1</td>\n",
       "      <td>1</td>\n",
       "      <td>female</td>\n",
       "      <td>35.000000</td>\n",
       "      <td>1</td>\n",
       "      <td>0</td>\n",
       "      <td>53.1000</td>\n",
       "      <td>S</td>\n",
       "    </tr>\n",
       "    <tr>\n",
       "      <th>4</th>\n",
       "      <td>0</td>\n",
       "      <td>3</td>\n",
       "      <td>male</td>\n",
       "      <td>35.000000</td>\n",
       "      <td>0</td>\n",
       "      <td>0</td>\n",
       "      <td>8.0500</td>\n",
       "      <td>S</td>\n",
       "    </tr>\n",
       "    <tr>\n",
       "      <th>...</th>\n",
       "      <td>...</td>\n",
       "      <td>...</td>\n",
       "      <td>...</td>\n",
       "      <td>...</td>\n",
       "      <td>...</td>\n",
       "      <td>...</td>\n",
       "      <td>...</td>\n",
       "      <td>...</td>\n",
       "    </tr>\n",
       "    <tr>\n",
       "      <th>886</th>\n",
       "      <td>0</td>\n",
       "      <td>2</td>\n",
       "      <td>male</td>\n",
       "      <td>27.000000</td>\n",
       "      <td>0</td>\n",
       "      <td>0</td>\n",
       "      <td>13.0000</td>\n",
       "      <td>S</td>\n",
       "    </tr>\n",
       "    <tr>\n",
       "      <th>887</th>\n",
       "      <td>1</td>\n",
       "      <td>1</td>\n",
       "      <td>female</td>\n",
       "      <td>19.000000</td>\n",
       "      <td>0</td>\n",
       "      <td>0</td>\n",
       "      <td>30.0000</td>\n",
       "      <td>S</td>\n",
       "    </tr>\n",
       "    <tr>\n",
       "      <th>888</th>\n",
       "      <td>0</td>\n",
       "      <td>3</td>\n",
       "      <td>female</td>\n",
       "      <td>29.699118</td>\n",
       "      <td>1</td>\n",
       "      <td>2</td>\n",
       "      <td>23.4500</td>\n",
       "      <td>S</td>\n",
       "    </tr>\n",
       "    <tr>\n",
       "      <th>889</th>\n",
       "      <td>1</td>\n",
       "      <td>1</td>\n",
       "      <td>male</td>\n",
       "      <td>26.000000</td>\n",
       "      <td>0</td>\n",
       "      <td>0</td>\n",
       "      <td>30.0000</td>\n",
       "      <td>C</td>\n",
       "    </tr>\n",
       "    <tr>\n",
       "      <th>890</th>\n",
       "      <td>0</td>\n",
       "      <td>3</td>\n",
       "      <td>male</td>\n",
       "      <td>32.000000</td>\n",
       "      <td>0</td>\n",
       "      <td>0</td>\n",
       "      <td>7.7500</td>\n",
       "      <td>Q</td>\n",
       "    </tr>\n",
       "  </tbody>\n",
       "</table>\n",
       "<p>891 rows × 8 columns</p>\n",
       "</div>"
      ],
      "text/plain": [
       "     Survived  Pclass     Sex        Age  SibSp  Parch     Fare Embarked\n",
       "0           0       3    male  22.000000      1      0   7.2500        S\n",
       "1           1       1  female  38.000000      1      0  71.2833        C\n",
       "2           1       3  female  26.000000      0      0   7.9250        S\n",
       "3           1       1  female  35.000000      1      0  53.1000        S\n",
       "4           0       3    male  35.000000      0      0   8.0500        S\n",
       "..        ...     ...     ...        ...    ...    ...      ...      ...\n",
       "886         0       2    male  27.000000      0      0  13.0000        S\n",
       "887         1       1  female  19.000000      0      0  30.0000        S\n",
       "888         0       3  female  29.699118      1      2  23.4500        S\n",
       "889         1       1    male  26.000000      0      0  30.0000        C\n",
       "890         0       3    male  32.000000      0      0   7.7500        Q\n",
       "\n",
       "[891 rows x 8 columns]"
      ]
     },
     "execution_count": 15,
     "metadata": {},
     "output_type": "execute_result"
    }
   ],
   "source": [
    "ts"
   ]
  },
  {
   "cell_type": "code",
   "execution_count": 16,
   "id": "a30f7584",
   "metadata": {},
   "outputs": [
    {
     "data": {
      "text/plain": [
       "Survived    0\n",
       "Pclass      0\n",
       "Sex         0\n",
       "Age         0\n",
       "SibSp       0\n",
       "Parch       0\n",
       "Fare        0\n",
       "Embarked    0\n",
       "dtype: int64"
      ]
     },
     "execution_count": 16,
     "metadata": {},
     "output_type": "execute_result"
    }
   ],
   "source": [
    "#once Again Checking misssing values\n",
    "ts.isnull().sum()"
   ]
  },
  {
   "cell_type": "code",
   "execution_count": 155,
   "id": "87fab443",
   "metadata": {},
   "outputs": [
    {
     "data": {
      "text/plain": [
       "<AxesSubplot:title={'center':'Null values '}>"
      ]
     },
     "execution_count": 155,
     "metadata": {},
     "output_type": "execute_result"
    },
    {
     "data": {
      "image/png": "[encoded data removed]",
      "text/plain": [
       "<Figure size 720x432 with 2 Axes>"
      ]
     },
     "metadata": {},
     "output_type": "display_data"
    }
   ],
   "source": [
    "plt.figure(figsize=(10,6))\n",
    "plt.title('Null values ',fontsize=15)\n",
    "\n",
    "sns.heatmap(ts.isnull())"
   ]
  },
  {
   "cell_type": "markdown",
   "id": "9746b458",
   "metadata": {},
   "source": [
    "- There is no null values as missing data are filled."
   ]
  },
  {
   "cell_type": "markdown",
   "id": "aea0f656",
   "metadata": {},
   "source": [
    "#### Checking the value counts of categorical data."
   ]
  },
  {
   "cell_type": "code",
   "execution_count": 17,
   "id": "9c376453",
   "metadata": {},
   "outputs": [
    {
     "data": {
      "text/plain": [
       "0    549\n",
       "1    342\n",
       "Name: Survived, dtype: int64"
      ]
     },
     "execution_count": 17,
     "metadata": {},
     "output_type": "execute_result"
    }
   ],
   "source": [
    "\n",
    "ts['Survived'].value_counts()"
   ]
  },
  {
   "cell_type": "markdown",
   "id": "ebb5cf66",
   "metadata": {},
   "source": [
    "- Approximately 549 passengers were dead and only 342 passengers survived ."
   ]
  },
  {
   "cell_type": "code",
   "execution_count": 18,
   "id": "5d2343de",
   "metadata": {},
   "outputs": [
    {
     "data": {
      "text/plain": [
       "3    491\n",
       "1    216\n",
       "2    184\n",
       "Name: Pclass, dtype: int64"
      ]
     },
     "execution_count": 18,
     "metadata": {},
     "output_type": "execute_result"
    }
   ],
   "source": [
    "ts['Pclass'].value_counts()"
   ]
  },
  {
   "cell_type": "markdown",
   "id": "492c55b7",
   "metadata": {},
   "source": [
    "- More people travelled in 3rd class as compared to 1st or 2nd class."
   ]
  },
  {
   "cell_type": "code",
   "execution_count": 19,
   "id": "638044aa",
   "metadata": {},
   "outputs": [
    {
     "data": {
      "text/plain": [
       "male      577\n",
       "female    314\n",
       "Name: Sex, dtype: int64"
      ]
     },
     "execution_count": 19,
     "metadata": {},
     "output_type": "execute_result"
    }
   ],
   "source": [
    "ts['Sex'].value_counts()"
   ]
  },
  {
   "cell_type": "markdown",
   "id": "9a7d4ed6",
   "metadata": {},
   "source": [
    "- The number of count of male ratio was high as compared with Females ."
   ]
  },
  {
   "cell_type": "code",
   "execution_count": 20,
   "id": "0573ff7f",
   "metadata": {},
   "outputs": [
    {
     "data": {
      "text/html": [
       "<div>\n",
       "<style scoped>\n",
       "    .dataframe tbody tr th:only-of-type {\n",
       "        vertical-align: middle;\n",
       "    }\n",
       "\n",
       "    .dataframe tbody tr th {\n",
       "        vertical-align: top;\n",
       "    }\n",
       "\n",
       "    .dataframe thead th {\n",
       "        text-align: right;\n",
       "    }\n",
       "</style>\n",
       "<table border=\"1\" class=\"dataframe\">\n",
       "  <thead>\n",
       "    <tr style=\"text-align: right;\">\n",
       "      <th></th>\n",
       "      <th>Survived</th>\n",
       "      <th>Pclass</th>\n",
       "      <th>Age</th>\n",
       "      <th>SibSp</th>\n",
       "      <th>Parch</th>\n",
       "      <th>Fare</th>\n",
       "    </tr>\n",
       "    <tr>\n",
       "      <th>Sex</th>\n",
       "      <th></th>\n",
       "      <th></th>\n",
       "      <th></th>\n",
       "      <th></th>\n",
       "      <th></th>\n",
       "      <th></th>\n",
       "    </tr>\n",
       "  </thead>\n",
       "  <tbody>\n",
       "    <tr>\n",
       "      <th>female</th>\n",
       "      <td>0.742038</td>\n",
       "      <td>2.159236</td>\n",
       "      <td>28.216730</td>\n",
       "      <td>0.694268</td>\n",
       "      <td>0.649682</td>\n",
       "      <td>44.479818</td>\n",
       "    </tr>\n",
       "    <tr>\n",
       "      <th>male</th>\n",
       "      <td>0.188908</td>\n",
       "      <td>2.389948</td>\n",
       "      <td>30.505824</td>\n",
       "      <td>0.429809</td>\n",
       "      <td>0.235702</td>\n",
       "      <td>25.523893</td>\n",
       "    </tr>\n",
       "  </tbody>\n",
       "</table>\n",
       "</div>"
      ],
      "text/plain": [
       "        Survived    Pclass        Age     SibSp     Parch       Fare\n",
       "Sex                                                                 \n",
       "female  0.742038  2.159236  28.216730  0.694268  0.649682  44.479818\n",
       "male    0.188908  2.389948  30.505824  0.429809  0.235702  25.523893"
      ]
     },
     "execution_count": 20,
     "metadata": {},
     "output_type": "execute_result"
    }
   ],
   "source": [
    "# Using Groupby function \n",
    "\n",
    "ts.groupby(['Sex']).mean()"
   ]
  },
  {
   "cell_type": "markdown",
   "id": "b02fa6e1",
   "metadata": {},
   "source": [
    "-  As seen ,women are much more likely to survive than men. 74% of the women survived, while only 18% of men survived.Moreover , Fare was seem to be high for females than males."
   ]
  },
  {
   "cell_type": "code",
   "execution_count": 21,
   "id": "1451b8a6",
   "metadata": {},
   "outputs": [
    {
     "data": {
      "text/html": [
       "<div>\n",
       "<style scoped>\n",
       "    .dataframe tbody tr th:only-of-type {\n",
       "        vertical-align: middle;\n",
       "    }\n",
       "\n",
       "    .dataframe tbody tr th {\n",
       "        vertical-align: top;\n",
       "    }\n",
       "\n",
       "    .dataframe thead th {\n",
       "        text-align: right;\n",
       "    }\n",
       "</style>\n",
       "<table border=\"1\" class=\"dataframe\">\n",
       "  <thead>\n",
       "    <tr style=\"text-align: right;\">\n",
       "      <th></th>\n",
       "      <th></th>\n",
       "      <th>Survived</th>\n",
       "      <th>Age</th>\n",
       "      <th>SibSp</th>\n",
       "      <th>Parch</th>\n",
       "      <th>Fare</th>\n",
       "    </tr>\n",
       "    <tr>\n",
       "      <th>Sex</th>\n",
       "      <th>Pclass</th>\n",
       "      <th></th>\n",
       "      <th></th>\n",
       "      <th></th>\n",
       "      <th></th>\n",
       "      <th></th>\n",
       "    </tr>\n",
       "  </thead>\n",
       "  <tbody>\n",
       "    <tr>\n",
       "      <th rowspan=\"3\" valign=\"top\">female</th>\n",
       "      <th>1</th>\n",
       "      <td>0.968085</td>\n",
       "      <td>34.141405</td>\n",
       "      <td>0.553191</td>\n",
       "      <td>0.457447</td>\n",
       "      <td>106.125798</td>\n",
       "    </tr>\n",
       "    <tr>\n",
       "      <th>2</th>\n",
       "      <td>0.921053</td>\n",
       "      <td>28.748661</td>\n",
       "      <td>0.486842</td>\n",
       "      <td>0.605263</td>\n",
       "      <td>21.970121</td>\n",
       "    </tr>\n",
       "    <tr>\n",
       "      <th>3</th>\n",
       "      <td>0.500000</td>\n",
       "      <td>24.068493</td>\n",
       "      <td>0.895833</td>\n",
       "      <td>0.798611</td>\n",
       "      <td>16.118810</td>\n",
       "    </tr>\n",
       "    <tr>\n",
       "      <th rowspan=\"3\" valign=\"top\">male</th>\n",
       "      <th>1</th>\n",
       "      <td>0.368852</td>\n",
       "      <td>39.287717</td>\n",
       "      <td>0.311475</td>\n",
       "      <td>0.278689</td>\n",
       "      <td>67.226127</td>\n",
       "    </tr>\n",
       "    <tr>\n",
       "      <th>2</th>\n",
       "      <td>0.157407</td>\n",
       "      <td>30.653908</td>\n",
       "      <td>0.342593</td>\n",
       "      <td>0.222222</td>\n",
       "      <td>19.741782</td>\n",
       "    </tr>\n",
       "    <tr>\n",
       "      <th>3</th>\n",
       "      <td>0.135447</td>\n",
       "      <td>27.372153</td>\n",
       "      <td>0.498559</td>\n",
       "      <td>0.224784</td>\n",
       "      <td>12.661633</td>\n",
       "    </tr>\n",
       "  </tbody>\n",
       "</table>\n",
       "</div>"
      ],
      "text/plain": [
       "               Survived        Age     SibSp     Parch        Fare\n",
       "Sex    Pclass                                                     \n",
       "female 1       0.968085  34.141405  0.553191  0.457447  106.125798\n",
       "       2       0.921053  28.748661  0.486842  0.605263   21.970121\n",
       "       3       0.500000  24.068493  0.895833  0.798611   16.118810\n",
       "male   1       0.368852  39.287717  0.311475  0.278689   67.226127\n",
       "       2       0.157407  30.653908  0.342593  0.222222   19.741782\n",
       "       3       0.135447  27.372153  0.498559  0.224784   12.661633"
      ]
     },
     "execution_count": 21,
     "metadata": {},
     "output_type": "execute_result"
    }
   ],
   "source": [
    "ts.groupby(['Sex','Pclass']).mean()"
   ]
  },
  {
   "cell_type": "markdown",
   "id": "910bfe5f",
   "metadata": {},
   "source": [
    "#### Key observations-\n",
    "\n",
    "- In the quest of survival rates between men and women,women are much more likely to survive than men, specially women in the first and second class. \n",
    "- It also shows that men in the first class are almost 3-times more likely to survive than men in the third class.\n",
    "- Fare for women in 1st class is much higher as compared with males of 1st class passengers."
   ]
  },
  {
   "cell_type": "markdown",
   "id": "d6649931",
   "metadata": {},
   "source": [
    "### DATA VISUALIZATION \n",
    "Catergorical data with Target variable\n"
   ]
  },
  {
   "cell_type": "code",
   "execution_count": 22,
   "id": "d4ade13e",
   "metadata": {},
   "outputs": [
    {
     "data": {
      "text/plain": [
       "Text(0.5, 1.0, 'Number of Survived')"
      ]
     },
     "execution_count": 22,
     "metadata": {},
     "output_type": "execute_result"
    },
    {
     "data": {
      "image/png": "[encoded data removed]",
      "text/plain": [
       "<Figure size 720x360 with 1 Axes>"
      ]
     },
     "metadata": {
      "needs_background": "light"
     },
     "output_type": "display_data"
    }
   ],
   "source": [
    "plt.figure(figsize = (10,5))\n",
    "sns.set(style=\"darkgrid\")\n",
    "sns.countplot(ts['Survived'], linewidth = 5, edgecolor = sns.color_palette(\"dark\", 3))\n",
    "plt.title('Number of Survived',fontsize=16)"
   ]
  },
  {
   "cell_type": "markdown",
   "id": "b3e11bb5",
   "metadata": {},
   "source": [
    "- This graph shows that 549 passengers were dead and only 342 passengers survived .\n",
    "- This is a imbalanced data."
   ]
  },
  {
   "cell_type": "code",
   "execution_count": 23,
   "id": "eeeb90e7",
   "metadata": {},
   "outputs": [
    {
     "data": {
      "image/png": "[encoded data removed]",
      "text/plain": [
       "<Figure size 720x360 with 1 Axes>"
      ]
     },
     "metadata": {},
     "output_type": "display_data"
    }
   ],
   "source": [
    "# Determining the survival count.\n",
    "\n",
    "plt.figure(figsize = (10,5))\n",
    "x = ts['Survived'].value_counts()\n",
    "plt.pie(x, labels = None,autopct = '%2.f' ,counterclock = False)  #autopct enables you to display the percent value using Python string formatting\n",
    "plt.axis ('equal')\n",
    "plt.title(\"SURVIVED PASSENGERS\")\n",
    "plt.show()"
   ]
  },
  {
   "cell_type": "code",
   "execution_count": 24,
   "id": "bda90018",
   "metadata": {},
   "outputs": [
    {
     "data": {
      "text/plain": [
       "Text(0.5, 1.0, 'Passenger Class')"
      ]
     },
     "execution_count": 24,
     "metadata": {},
     "output_type": "execute_result"
    },
    {
     "data": {
      "image/png": "[encoded data removed]",
      "text/plain": [
       "<Figure size 720x360 with 1 Axes>"
      ]
     },
     "metadata": {},
     "output_type": "display_data"
    }
   ],
   "source": [
    "plt.figure(figsize = (10,5))\n",
    "sns.countplot(ts['Pclass'], linewidth = 5, edgecolor = sns.color_palette(\"dark\", 3))\n",
    "plt.title('Passenger Class',fontsize=16)"
   ]
  },
  {
   "cell_type": "markdown",
   "id": "6df82b7c",
   "metadata": {},
   "source": [
    "- This is a uneven distribution.\n",
    "- Passengers in 1st class and 2nd class have almost even distribution .Moreover,in 3rd class(491) distribution is much higher"
   ]
  },
  {
   "cell_type": "code",
   "execution_count": 25,
   "id": "129fe27f",
   "metadata": {},
   "outputs": [
    {
     "data": {
      "text/plain": [
       "<AxesSubplot:title={'center':'Class of Survived Passengers'}, xlabel='Pclass', ylabel='count'>"
      ]
     },
     "execution_count": 25,
     "metadata": {},
     "output_type": "execute_result"
    },
    {
     "data": {
      "image/png": "[encoded data removed]",
      "text/plain": [
       "<Figure size 720x432 with 1 Axes>"
      ]
     },
     "metadata": {},
     "output_type": "display_data"
    }
   ],
   "source": [
    "plt.figure(figsize=(10,6))\n",
    "sns.set(style=\"darkgrid\")\n",
    "plt.title('Class of Survived Passengers',fontsize=12)\n",
    "sns.countplot(ts['Pclass'],hue='Survived',data=ts,linewidth = 3, edgecolor = sns.color_palette(\"dark\", 3))"
   ]
  },
  {
   "cell_type": "markdown",
   "id": "05b29f94",
   "metadata": {},
   "source": [
    "- The wealthy people who belongs to 1st class survived mostly whereas , people who bought ticket of 3rd class died mostly."
   ]
  },
  {
   "cell_type": "code",
   "execution_count": 26,
   "id": "5284524d",
   "metadata": {},
   "outputs": [
    {
     "data": {
      "text/plain": [
       "Text(0.5, 1.0, 'SEX')"
      ]
     },
     "execution_count": 26,
     "metadata": {},
     "output_type": "execute_result"
    },
    {
     "data": {
      "image/png": "[encoded data removed]",
      "text/plain": [
       "<Figure size 720x360 with 1 Axes>"
      ]
     },
     "metadata": {},
     "output_type": "display_data"
    }
   ],
   "source": [
    "plt.figure(figsize = (10,5))\n",
    "sns.countplot(ts['Sex'], linewidth = 5, edgecolor = sns.color_palette(\"dark\", 3))\n",
    "plt.title('SEX',fontsize=16)"
   ]
  },
  {
   "cell_type": "markdown",
   "id": "541667f3",
   "metadata": {},
   "source": [
    "- The Number of male passengers are higher than the Female passenger i.e approximately 577 males and 314 females.\n",
    "- This ia also an uneven distribution."
   ]
  },
  {
   "cell_type": "code",
   "execution_count": 154,
   "id": "e99ff18a",
   "metadata": {},
   "outputs": [
    {
     "data": {
      "text/plain": [
       "<AxesSubplot:title={'center':'Gender of Survived passengers'}, xlabel='Sex', ylabel='count'>"
      ]
     },
     "execution_count": 154,
     "metadata": {},
     "output_type": "execute_result"
    },
    {
     "data": {
      "image/png": "[encoded data removed]",
      "text/plain": [
       "<Figure size 576x360 with 1 Axes>"
      ]
     },
     "metadata": {},
     "output_type": "display_data"
    }
   ],
   "source": [
    "plt.figure(figsize=(8,5))\n",
    "sns.set(style=\"whitegrid\")\n",
    "plt.title('Gender of Survived passengers',fontsize=12)\n",
    "sns.countplot(ts['Sex'],hue='Survived',data = ts,linewidth = 2, edgecolor = sns.color_palette(\"dark\", 3))"
   ]
  },
  {
   "cell_type": "markdown",
   "id": "61f13a1a",
   "metadata": {},
   "source": [
    "- As we can observe more number of females survived when compared to male but we have seen previously that more number of males passengers were travelling.It indicates that female passengers were given priority during the rescue operations."
   ]
  },
  {
   "cell_type": "code",
   "execution_count": 28,
   "id": "c18d0079",
   "metadata": {},
   "outputs": [
    {
     "data": {
      "text/plain": [
       "Text(0.5, 1.0, 'Embarked ')"
      ]
     },
     "execution_count": 28,
     "metadata": {},
     "output_type": "execute_result"
    },
    {
     "data": {
      "image/png": "[encoded data removed]",
      "text/plain": [
       "<Figure size 720x576 with 1 Axes>"
      ]
     },
     "metadata": {},
     "output_type": "display_data"
    }
   ],
   "source": [
    "plt.figure(figsize=(10,8))\n",
    "sns.countplot(ts['Embarked'], linewidth = 5, edgecolor = sns.color_palette(\"dark\", 3))\n",
    "plt.title('Embarked ',fontsize=16)\n"
   ]
  },
  {
   "cell_type": "markdown",
   "id": "24bda56e",
   "metadata": {},
   "source": [
    "- It is clearly observed that most of passengers were getting on ship from S ( Southampton).\n",
    "- 70% of the people boarded from Southampton.\n",
    "- 20% boarded from Cherbourg.\n",
    "- 10% boarded from Queenstown."
   ]
  },
  {
   "cell_type": "code",
   "execution_count": 152,
   "id": "ca288e59",
   "metadata": {},
   "outputs": [
    {
     "data": {
      "text/plain": [
       "<AxesSubplot:title={'center':'Embarked Survived passengers'}, xlabel='Embarked', ylabel='count'>"
      ]
     },
     "execution_count": 152,
     "metadata": {},
     "output_type": "execute_result"
    },
    {
     "data": {
      "image/png": "[encoded data removed]",
      "text/plain": [
       "<Figure size 720x576 with 1 Axes>"
      ]
     },
     "metadata": {},
     "output_type": "display_data"
    }
   ],
   "source": [
    "plt.figure(figsize=(10,8))\n",
    "plt.title('Embarked Survived passengers',fontsize=12)\n",
    "sns.countplot(ts['Embarked'],hue='Survived',data = ts,linewidth = 2,edgecolor = sns.color_palette(\"dark\", 3))"
   ]
  },
  {
   "cell_type": "markdown",
   "id": "0078e100",
   "metadata": {},
   "source": [
    "- The number of deaths and survived rate was seen more in Southhampton as compared with the others."
   ]
  },
  {
   "cell_type": "code",
   "execution_count": 30,
   "id": "ba73eef7",
   "metadata": {},
   "outputs": [
    {
     "data": {
      "text/plain": [
       "Text(0.5, 1.0, 'Number of Siblings/Spouses Aboard')"
      ]
     },
     "execution_count": 30,
     "metadata": {},
     "output_type": "execute_result"
    },
    {
     "data": {
      "image/png": "[encoded data removed]",
      "text/plain": [
       "<Figure size 720x360 with 1 Axes>"
      ]
     },
     "metadata": {},
     "output_type": "display_data"
    }
   ],
   "source": [
    "plt.figure(figsize = (10,5))\n",
    "sns.countplot(ts['SibSp'], linewidth = 3, edgecolor = sns.color_palette(\"dark\", 3))\n",
    "plt.title('Number of Siblings/Spouses Aboard',fontsize=15)"
   ]
  },
  {
   "cell_type": "markdown",
   "id": "81d58230",
   "metadata": {},
   "source": [
    "- Around 600 people don't have siblings or spouse and around 200 people having 1 sibling or spouse while other people having more that 1 sibling and spouse."
   ]
  },
  {
   "cell_type": "code",
   "execution_count": 31,
   "id": "cdec7b97",
   "metadata": {},
   "outputs": [
    {
     "data": {
      "text/plain": [
       "<AxesSubplot:title={'center':'Number of Sibling survived '}, xlabel='SibSp', ylabel='count'>"
      ]
     },
     "execution_count": 31,
     "metadata": {},
     "output_type": "execute_result"
    },
    {
     "data": {
      "image/png": "[encoded data removed]",
      "text/plain": [
       "<Figure size 720x432 with 1 Axes>"
      ]
     },
     "metadata": {},
     "output_type": "display_data"
    }
   ],
   "source": [
    "plt.figure(figsize=(10,6))\n",
    "plt.title('Number of Sibling survived ',fontsize=12)\n",
    "sns.countplot(ts['SibSp'],hue='Survived',data=ts ,linewidth = 3, edgecolor = sns.color_palette(\"dark\", 3))"
   ]
  },
  {
   "cell_type": "markdown",
   "id": "fffcb5d0",
   "metadata": {},
   "source": [
    "- Most familes are with 0 or one sibs who survived morethan those with 2-4 sibilings."
   ]
  },
  {
   "cell_type": "code",
   "execution_count": 32,
   "id": "cb9d5eef",
   "metadata": {},
   "outputs": [
    {
     "data": {
      "text/plain": [
       "Text(0.5, 1.0, 'Number of Parents/Children Aboard')"
      ]
     },
     "execution_count": 32,
     "metadata": {},
     "output_type": "execute_result"
    },
    {
     "data": {
      "image/png": "[encoded data removed]",
      "text/plain": [
       "<Figure size 720x360 with 1 Axes>"
      ]
     },
     "metadata": {},
     "output_type": "display_data"
    }
   ],
   "source": [
    "plt.figure(figsize = (10,5))\n",
    "sns.countplot(ts['Parch'], linewidth = 5, edgecolor = sns.color_palette(\"dark\", 3))\n",
    "plt.title('Number of Parents/Children Aboard',fontsize=15)"
   ]
  },
  {
   "cell_type": "code",
   "execution_count": 33,
   "id": "6799cf29",
   "metadata": {},
   "outputs": [
    {
     "data": {
      "text/plain": [
       "<AxesSubplot:title={'center':'Number of Parents/Children survived'}, xlabel='Parch', ylabel='count'>"
      ]
     },
     "execution_count": 33,
     "metadata": {},
     "output_type": "execute_result"
    },
    {
     "data": {
      "image/png": "[encoded data removed]",
      "text/plain": [
       "<Figure size 720x432 with 1 Axes>"
      ]
     },
     "metadata": {},
     "output_type": "display_data"
    }
   ],
   "source": [
    "plt.figure(figsize=(10,6))\n",
    "plt.title('Number of Parents/Children survived',fontsize=12)\n",
    "sns.countplot(ts['Parch'],hue='Survived',data=ts , linewidth = 3, edgecolor = sns.color_palette(\"dark\", 3))"
   ]
  },
  {
   "cell_type": "markdown",
   "id": "4c1987d4",
   "metadata": {},
   "source": [
    "- There was a similiar trend seen as above. People who travel alone(solo passengers) have highest chances for survival."
   ]
  },
  {
   "cell_type": "code",
   "execution_count": 34,
   "id": "1ba59149",
   "metadata": {},
   "outputs": [
    {
     "data": {
      "text/plain": [
       "<AxesSubplot:xlabel='Embarked', ylabel='Fare'>"
      ]
     },
     "execution_count": 34,
     "metadata": {},
     "output_type": "execute_result"
    },
    {
     "data": {
      "image/png": "[encoded data removed]",
      "text/plain": [
       "<Figure size 432x288 with 1 Axes>"
      ]
     },
     "metadata": {},
     "output_type": "display_data"
    }
   ],
   "source": [
    "# Scatterplot between Fare and Pclass.\n",
    "sns.scatterplot(x = 'Embarked', y = 'Fare', data = ts)"
   ]
  },
  {
   "cell_type": "code",
   "execution_count": 35,
   "id": "3f6e9173",
   "metadata": {},
   "outputs": [
    {
     "data": {
      "text/plain": [
       "<AxesSubplot:xlabel='Pclass', ylabel='Fare'>"
      ]
     },
     "execution_count": 35,
     "metadata": {},
     "output_type": "execute_result"
    },
    {
     "data": {
      "image/png": "[encoded data removed]",
      "text/plain": [
       "<Figure size 432x288 with 1 Axes>"
      ]
     },
     "metadata": {},
     "output_type": "display_data"
    }
   ],
   "source": [
    "sns.scatterplot(y = 'Fare', x = 'Pclass', data = ts)"
   ]
  },
  {
   "cell_type": "markdown",
   "id": "41abf850",
   "metadata": {},
   "source": [
    "- Average price of first class is so much higher compare to the other 2 classes."
   ]
  },
  {
   "cell_type": "code",
   "execution_count": 36,
   "id": "5cc73e3d",
   "metadata": {},
   "outputs": [
    {
     "data": {
      "text/plain": [
       "(array([    0.,  2500.,  5000.,  7500., 10000., 12500., 15000., 17500.,\n",
       "        20000.]),\n",
       " [Text(0, 0, ''),\n",
       "  Text(0, 0, ''),\n",
       "  Text(0, 0, ''),\n",
       "  Text(0, 0, ''),\n",
       "  Text(0, 0, ''),\n",
       "  Text(0, 0, ''),\n",
       "  Text(0, 0, ''),\n",
       "  Text(0, 0, ''),\n",
       "  Text(0, 0, '')])"
      ]
     },
     "execution_count": 36,
     "metadata": {},
     "output_type": "execute_result"
    },
    {
     "data": {
      "image/png": "[encoded data removed]",
      "text/plain": [
       "<Figure size 432x288 with 1 Axes>"
      ]
     },
     "metadata": {},
     "output_type": "display_data"
    }
   ],
   "source": [
    "#Checking teh tatal 'Fare' with different class of passengers \n",
    "\n",
    "total_fare = ts.pivot_table(index = 'Pclass',values = 'Fare', aggfunc= np.sum)\n",
    "total_fare.plot(kind = 'barh')\n",
    "plt.xlabel(\"Pclass\")\n",
    "plt.ylabel(\"TOTAL FARE\")\n",
    "plt.title(\"Total Fare by Pclass\")\n",
    "plt.xticks(rotation= 0)"
   ]
  },
  {
   "cell_type": "markdown",
   "id": "8fa5d432",
   "metadata": {},
   "source": [
    " - There is a huge difference in the total cost between different classes .\n",
    " - 1st class passengers had a total fare of more than dollar 17500 whereas,for 2nd and 3rd class passengers it was dollar 3000 and dollar 7000 respectively.\n",
    " - Thereby,the data distribution of 'Fare' is much higher for first class and is positively skewed"
   ]
  },
  {
   "cell_type": "code",
   "execution_count": 37,
   "id": "c46daae8",
   "metadata": {},
   "outputs": [
    {
     "data": {
      "text/plain": [
       "<AxesSubplot:xlabel='Age', ylabel='Density'>"
      ]
     },
     "execution_count": 37,
     "metadata": {},
     "output_type": "execute_result"
    },
    {
     "data": {
      "image/png": "[encoded data removed]",
      "text/plain": [
       "<Figure size 432x288 with 1 Axes>"
      ]
     },
     "metadata": {},
     "output_type": "display_data"
    }
   ],
   "source": [
    "sns.distplot(ts['Age'].dropna(),kde=True, color='darkred',bins=40)"
   ]
  },
  {
   "cell_type": "markdown",
   "id": "4602306f",
   "metadata": {},
   "source": [
    "- Most of the people who traveled was between the age group of 20-40 years and few were between 0-20 years and 60-80 years old."
   ]
  },
  {
   "cell_type": "code",
   "execution_count": 38,
   "id": "d8b20956",
   "metadata": {},
   "outputs": [
    {
     "data": {
      "text/plain": [
       "<AxesSubplot:xlabel='Fare', ylabel='Count'>"
      ]
     },
     "execution_count": 38,
     "metadata": {},
     "output_type": "execute_result"
    },
    {
     "data": {
      "image/png": "[encoded data removed]",
      "text/plain": [
       "<Figure size 432x288 with 1 Axes>"
      ]
     },
     "metadata": {},
     "output_type": "display_data"
    }
   ],
   "source": [
    "sns.histplot(ts['Fare'],kde= True,bins=40)"
   ]
  },
  {
   "cell_type": "markdown",
   "id": "3310ddbe",
   "metadata": {},
   "source": [
    "- The fare of travel was mostly seen around 380 people who was having 0 fare which means they must be workers and staff member on ship."
   ]
  },
  {
   "cell_type": "code",
   "execution_count": 39,
   "id": "1142f196",
   "metadata": {},
   "outputs": [
    {
     "data": {
      "text/plain": [
       "<seaborn.axisgrid.PairGrid at 0x2a063a273d0>"
      ]
     },
     "execution_count": 39,
     "metadata": {},
     "output_type": "execute_result"
    },
    {
     "data": {
      "image/png": "[encoded data removed]",
      "text/plain": [
       "<Figure size 955.55x900 with 30 Axes>"
      ]
     },
     "metadata": {},
     "output_type": "display_data"
    }
   ],
   "source": [
    "# ploting pairplot\n",
    "sns.pairplot(ts ,hue = \"Survived\")"
   ]
  },
  {
   "cell_type": "markdown",
   "id": "5bc4db5d",
   "metadata": {},
   "source": [
    "- Checking the pairwise distribution along with survival rate ."
   ]
  },
  {
   "cell_type": "markdown",
   "id": "2ac25ff7",
   "metadata": {},
   "source": [
    "#### CHECKING DATA DISTRIBUTION "
   ]
  },
  {
   "cell_type": "code",
   "execution_count": 40,
   "id": "a4e14d38",
   "metadata": {},
   "outputs": [
    {
     "data": {
      "image/png": "[encoded data removed]",
      "text/plain": [
       "<Figure size 1080x864 with 6 Axes>"
      ]
     },
     "metadata": {},
     "output_type": "display_data"
    }
   ],
   "source": [
    "sns.set_style(\"whitegrid\")\n",
    "titanic = ts.select_dtypes(exclude='object')\n",
    "plt.figure(figsize=(15,12),facecolor ='red')\n",
    "plot=1\n",
    "for col in titanic:\n",
    "    if plot<=12:\n",
    "        plt.subplot(3,3,plot)\n",
    "        sns.distplot(titanic[col],color='g')\n",
    "        plt.xlabel(col)\n",
    "        plot=plot+1\n",
    "plt.show()  "
   ]
  },
  {
   "cell_type": "markdown",
   "id": "fd1dc6e6",
   "metadata": {},
   "source": [
    "#### Key Observations - \n",
    "\n",
    "- 'Age' is uniformly distributed - normal distribution.\n",
    "- Majority of Age group lies between 20-40 age group.Very few between 60 -80 years as they are elderly age group.\n",
    "- Age and fare are only float datatype in which Age is normally distributed but Fare is Right skewed."
   ]
  },
  {
   "cell_type": "markdown",
   "id": "dbd4b443",
   "metadata": {},
   "source": [
    "#### CHECKING AND REMOVING OUTLIERS AND SKEWNESS"
   ]
  },
  {
   "cell_type": "code",
   "execution_count": 41,
   "id": "ee35e32f",
   "metadata": {},
   "outputs": [
    {
     "data": {
      "image/png": "[encoded data removed]",
      "text/plain": [
       "<Figure size 1080x720 with 6 Axes>"
      ]
     },
     "metadata": {},
     "output_type": "display_data"
    }
   ],
   "source": [
    "# Detecting outliers using boxplot.\n",
    "\n",
    "plt.figure(figsize=(15,10),facecolor='pink')\n",
    "num = 1\n",
    "\n",
    "for col in titanic:\n",
    "    if num <= 12:\n",
    "        data = plt.subplot(3,3,num)\n",
    "        sns.boxplot(titanic[col])\n",
    "        plt.xlabel(col,fontsize=10)\n",
    "    num +=1\n",
    "    \n",
    "plt.show()"
   ]
  },
  {
   "cell_type": "markdown",
   "id": "fa64caff",
   "metadata": {},
   "source": [
    "#### Key Observations-\n",
    "\n",
    "- There are outliers are present in 'Fare' , 'Age','Sibsp' and 'Parch'.\n",
    "- Outliers in Age are present in both ends -the uppper & Lower Whisker.\n",
    "- 'Sibsp' and 'Parch' are encoded data."
   ]
  },
  {
   "cell_type": "code",
   "execution_count": 42,
   "id": "5360446f",
   "metadata": {},
   "outputs": [],
   "source": [
    "# Removing outliers \n",
    "\n",
    "\n",
    "def remove_outliers(ts,col):\n",
    "    IQR=ts[col].quantile(.75)-ts[col].quantile(.25)\n",
    "    LOWER_LIMIT= ts[col].quantile(.25)-(1.5*IQR)\n",
    "    UPPER_LIMIT= ts[col].quantile(.75)+(1.5*IQR)\n",
    "    outlier = np.where((ts[col]<LOWER_LIMIT) |(ts[col]>UPPER_LIMIT),ts[col].median(),ts[col])\n",
    "    ts[col]= outlier\n",
    "\n",
    "    plt.subplot(1,2,1)\n",
    "    sns.distplot(ts[col])\n",
    "    plt.subplot(1,2,2)\n",
    "    sns.boxplot(ts[col])"
   ]
  },
  {
   "cell_type": "code",
   "execution_count": 43,
   "id": "ce816da4",
   "metadata": {},
   "outputs": [
    {
     "data": {
      "image/png": "[encoded data removed]",
      "text/plain": [
       "<Figure size 432x288 with 2 Axes>"
      ]
     },
     "metadata": {},
     "output_type": "display_data"
    }
   ],
   "source": [
    "remove_outliers(ts,'Age')"
   ]
  },
  {
   "cell_type": "code",
   "execution_count": 44,
   "id": "c59df239",
   "metadata": {},
   "outputs": [
    {
     "data": {
      "image/png": "[encoded data removed]",
      "text/plain": [
       "<Figure size 432x288 with 2 Axes>"
      ]
     },
     "metadata": {},
     "output_type": "display_data"
    }
   ],
   "source": [
    "remove_outliers(ts,'Fare')"
   ]
  },
  {
   "cell_type": "markdown",
   "id": "c2f8942b",
   "metadata": {},
   "source": [
    "- Outliers has been reduced from 'Age' and 'Fare'."
   ]
  },
  {
   "cell_type": "markdown",
   "id": "3931e119",
   "metadata": {},
   "source": [
    "#### Converting Categorical columns using Label encoder"
   ]
  },
  {
   "cell_type": "code",
   "execution_count": 45,
   "id": "811b7677",
   "metadata": {},
   "outputs": [],
   "source": [
    "# Using Encoding technique to convert 'SEX' and 'Embarked'\n",
    "\n",
    "from sklearn.preprocessing import LabelEncoder,StandardScaler"
   ]
  },
  {
   "cell_type": "code",
   "execution_count": 46,
   "id": "9261b523",
   "metadata": {},
   "outputs": [],
   "source": [
    "le = LabelEncoder()\n",
    "ts['Sex'] = le.fit_transform(ts['Sex'])\n",
    "ts['Embarked'] = le.fit_transform(ts['Embarked'])"
   ]
  },
  {
   "cell_type": "code",
   "execution_count": 47,
   "id": "6e7748ef",
   "metadata": {},
   "outputs": [
    {
     "data": {
      "text/html": [
       "<div>\n",
       "<style scoped>\n",
       "    .dataframe tbody tr th:only-of-type {\n",
       "        vertical-align: middle;\n",
       "    }\n",
       "\n",
       "    .dataframe tbody tr th {\n",
       "        vertical-align: top;\n",
       "    }\n",
       "\n",
       "    .dataframe thead th {\n",
       "        text-align: right;\n",
       "    }\n",
       "</style>\n",
       "<table border=\"1\" class=\"dataframe\">\n",
       "  <thead>\n",
       "    <tr style=\"text-align: right;\">\n",
       "      <th></th>\n",
       "      <th>Survived</th>\n",
       "      <th>Pclass</th>\n",
       "      <th>Sex</th>\n",
       "      <th>Age</th>\n",
       "      <th>SibSp</th>\n",
       "      <th>Parch</th>\n",
       "      <th>Fare</th>\n",
       "      <th>Embarked</th>\n",
       "    </tr>\n",
       "  </thead>\n",
       "  <tbody>\n",
       "    <tr>\n",
       "      <th>0</th>\n",
       "      <td>0</td>\n",
       "      <td>3</td>\n",
       "      <td>1</td>\n",
       "      <td>22.000000</td>\n",
       "      <td>1</td>\n",
       "      <td>0</td>\n",
       "      <td>7.2500</td>\n",
       "      <td>2</td>\n",
       "    </tr>\n",
       "    <tr>\n",
       "      <th>1</th>\n",
       "      <td>1</td>\n",
       "      <td>1</td>\n",
       "      <td>0</td>\n",
       "      <td>38.000000</td>\n",
       "      <td>1</td>\n",
       "      <td>0</td>\n",
       "      <td>14.4542</td>\n",
       "      <td>0</td>\n",
       "    </tr>\n",
       "    <tr>\n",
       "      <th>2</th>\n",
       "      <td>1</td>\n",
       "      <td>3</td>\n",
       "      <td>0</td>\n",
       "      <td>26.000000</td>\n",
       "      <td>0</td>\n",
       "      <td>0</td>\n",
       "      <td>7.9250</td>\n",
       "      <td>2</td>\n",
       "    </tr>\n",
       "    <tr>\n",
       "      <th>3</th>\n",
       "      <td>1</td>\n",
       "      <td>1</td>\n",
       "      <td>0</td>\n",
       "      <td>35.000000</td>\n",
       "      <td>1</td>\n",
       "      <td>0</td>\n",
       "      <td>53.1000</td>\n",
       "      <td>2</td>\n",
       "    </tr>\n",
       "    <tr>\n",
       "      <th>4</th>\n",
       "      <td>0</td>\n",
       "      <td>3</td>\n",
       "      <td>1</td>\n",
       "      <td>35.000000</td>\n",
       "      <td>0</td>\n",
       "      <td>0</td>\n",
       "      <td>8.0500</td>\n",
       "      <td>2</td>\n",
       "    </tr>\n",
       "    <tr>\n",
       "      <th>...</th>\n",
       "      <td>...</td>\n",
       "      <td>...</td>\n",
       "      <td>...</td>\n",
       "      <td>...</td>\n",
       "      <td>...</td>\n",
       "      <td>...</td>\n",
       "      <td>...</td>\n",
       "      <td>...</td>\n",
       "    </tr>\n",
       "    <tr>\n",
       "      <th>886</th>\n",
       "      <td>0</td>\n",
       "      <td>2</td>\n",
       "      <td>1</td>\n",
       "      <td>27.000000</td>\n",
       "      <td>0</td>\n",
       "      <td>0</td>\n",
       "      <td>13.0000</td>\n",
       "      <td>2</td>\n",
       "    </tr>\n",
       "    <tr>\n",
       "      <th>887</th>\n",
       "      <td>1</td>\n",
       "      <td>1</td>\n",
       "      <td>0</td>\n",
       "      <td>19.000000</td>\n",
       "      <td>0</td>\n",
       "      <td>0</td>\n",
       "      <td>30.0000</td>\n",
       "      <td>2</td>\n",
       "    </tr>\n",
       "    <tr>\n",
       "      <th>888</th>\n",
       "      <td>0</td>\n",
       "      <td>3</td>\n",
       "      <td>0</td>\n",
       "      <td>29.699118</td>\n",
       "      <td>1</td>\n",
       "      <td>2</td>\n",
       "      <td>23.4500</td>\n",
       "      <td>2</td>\n",
       "    </tr>\n",
       "    <tr>\n",
       "      <th>889</th>\n",
       "      <td>1</td>\n",
       "      <td>1</td>\n",
       "      <td>1</td>\n",
       "      <td>26.000000</td>\n",
       "      <td>0</td>\n",
       "      <td>0</td>\n",
       "      <td>30.0000</td>\n",
       "      <td>0</td>\n",
       "    </tr>\n",
       "    <tr>\n",
       "      <th>890</th>\n",
       "      <td>0</td>\n",
       "      <td>3</td>\n",
       "      <td>1</td>\n",
       "      <td>32.000000</td>\n",
       "      <td>0</td>\n",
       "      <td>0</td>\n",
       "      <td>7.7500</td>\n",
       "      <td>1</td>\n",
       "    </tr>\n",
       "  </tbody>\n",
       "</table>\n",
       "<p>891 rows × 8 columns</p>\n",
       "</div>"
      ],
      "text/plain": [
       "     Survived  Pclass  Sex        Age  SibSp  Parch     Fare  Embarked\n",
       "0           0       3    1  22.000000      1      0   7.2500         2\n",
       "1           1       1    0  38.000000      1      0  14.4542         0\n",
       "2           1       3    0  26.000000      0      0   7.9250         2\n",
       "3           1       1    0  35.000000      1      0  53.1000         2\n",
       "4           0       3    1  35.000000      0      0   8.0500         2\n",
       "..        ...     ...  ...        ...    ...    ...      ...       ...\n",
       "886         0       2    1  27.000000      0      0  13.0000         2\n",
       "887         1       1    0  19.000000      0      0  30.0000         2\n",
       "888         0       3    0  29.699118      1      2  23.4500         2\n",
       "889         1       1    1  26.000000      0      0  30.0000         0\n",
       "890         0       3    1  32.000000      0      0   7.7500         1\n",
       "\n",
       "[891 rows x 8 columns]"
      ]
     },
     "execution_count": 47,
     "metadata": {},
     "output_type": "execute_result"
    }
   ],
   "source": [
    "ts"
   ]
  },
  {
   "cell_type": "code",
   "execution_count": 48,
   "id": "80cfd8cc",
   "metadata": {},
   "outputs": [
    {
     "data": {
      "text/plain": [
       "(891, 8)"
      ]
     },
     "execution_count": 48,
     "metadata": {},
     "output_type": "execute_result"
    }
   ],
   "source": [
    "ts.shape   # rechecking the shape of the dataset"
   ]
  },
  {
   "cell_type": "code",
   "execution_count": 49,
   "id": "e0f359b0",
   "metadata": {},
   "outputs": [
    {
     "data": {
      "text/plain": [
       "Survived      int64\n",
       "Pclass        int64\n",
       "Sex           int32\n",
       "Age         float64\n",
       "SibSp         int64\n",
       "Parch         int64\n",
       "Fare        float64\n",
       "Embarked      int32\n",
       "dtype: object"
      ]
     },
     "execution_count": 49,
     "metadata": {},
     "output_type": "execute_result"
    }
   ],
   "source": [
    "ts.dtypes  # rechecking the dtype"
   ]
  },
  {
   "cell_type": "markdown",
   "id": "773edf35",
   "metadata": {},
   "source": [
    "- As we see, 'Sex' and 'Embarked' are now converted into int64."
   ]
  },
  {
   "cell_type": "markdown",
   "id": "4601e6e5",
   "metadata": {},
   "source": [
    "### CORRELATION MATRIX"
   ]
  },
  {
   "cell_type": "code",
   "execution_count": 50,
   "id": "4dc1d2c9",
   "metadata": {},
   "outputs": [
    {
     "data": {
      "text/html": [
       "<div>\n",
       "<style scoped>\n",
       "    .dataframe tbody tr th:only-of-type {\n",
       "        vertical-align: middle;\n",
       "    }\n",
       "\n",
       "    .dataframe tbody tr th {\n",
       "        vertical-align: top;\n",
       "    }\n",
       "\n",
       "    .dataframe thead th {\n",
       "        text-align: right;\n",
       "    }\n",
       "</style>\n",
       "<table border=\"1\" class=\"dataframe\">\n",
       "  <thead>\n",
       "    <tr style=\"text-align: right;\">\n",
       "      <th></th>\n",
       "      <th>Survived</th>\n",
       "      <th>Pclass</th>\n",
       "      <th>Sex</th>\n",
       "      <th>Age</th>\n",
       "      <th>SibSp</th>\n",
       "      <th>Parch</th>\n",
       "      <th>Fare</th>\n",
       "      <th>Embarked</th>\n",
       "    </tr>\n",
       "  </thead>\n",
       "  <tbody>\n",
       "    <tr>\n",
       "      <th>Survived</th>\n",
       "      <td>1.000000</td>\n",
       "      <td>-0.338481</td>\n",
       "      <td>-0.543351</td>\n",
       "      <td>-0.025726</td>\n",
       "      <td>-0.035322</td>\n",
       "      <td>0.081629</td>\n",
       "      <td>0.190926</td>\n",
       "      <td>-0.167675</td>\n",
       "    </tr>\n",
       "    <tr>\n",
       "      <th>Pclass</th>\n",
       "      <td>-0.338481</td>\n",
       "      <td>1.000000</td>\n",
       "      <td>0.131900</td>\n",
       "      <td>-0.274381</td>\n",
       "      <td>0.083081</td>\n",
       "      <td>0.018443</td>\n",
       "      <td>-0.433904</td>\n",
       "      <td>0.162098</td>\n",
       "    </tr>\n",
       "    <tr>\n",
       "      <th>Sex</th>\n",
       "      <td>-0.543351</td>\n",
       "      <td>0.131900</td>\n",
       "      <td>1.000000</td>\n",
       "      <td>0.057265</td>\n",
       "      <td>-0.114631</td>\n",
       "      <td>-0.245489</td>\n",
       "      <td>-0.102979</td>\n",
       "      <td>0.108262</td>\n",
       "    </tr>\n",
       "    <tr>\n",
       "      <th>Age</th>\n",
       "      <td>-0.025726</td>\n",
       "      <td>-0.274381</td>\n",
       "      <td>0.057265</td>\n",
       "      <td>1.000000</td>\n",
       "      <td>-0.172218</td>\n",
       "      <td>-0.122593</td>\n",
       "      <td>0.076522</td>\n",
       "      <td>-0.012628</td>\n",
       "    </tr>\n",
       "    <tr>\n",
       "      <th>SibSp</th>\n",
       "      <td>-0.035322</td>\n",
       "      <td>0.083081</td>\n",
       "      <td>-0.114631</td>\n",
       "      <td>-0.172218</td>\n",
       "      <td>1.000000</td>\n",
       "      <td>0.414838</td>\n",
       "      <td>0.262825</td>\n",
       "      <td>0.068230</td>\n",
       "    </tr>\n",
       "    <tr>\n",
       "      <th>Parch</th>\n",
       "      <td>0.081629</td>\n",
       "      <td>0.018443</td>\n",
       "      <td>-0.245489</td>\n",
       "      <td>-0.122593</td>\n",
       "      <td>0.414838</td>\n",
       "      <td>1.000000</td>\n",
       "      <td>0.293337</td>\n",
       "      <td>0.039798</td>\n",
       "    </tr>\n",
       "    <tr>\n",
       "      <th>Fare</th>\n",
       "      <td>0.190926</td>\n",
       "      <td>-0.433904</td>\n",
       "      <td>-0.102979</td>\n",
       "      <td>0.076522</td>\n",
       "      <td>0.262825</td>\n",
       "      <td>0.293337</td>\n",
       "      <td>1.000000</td>\n",
       "      <td>-0.023439</td>\n",
       "    </tr>\n",
       "    <tr>\n",
       "      <th>Embarked</th>\n",
       "      <td>-0.167675</td>\n",
       "      <td>0.162098</td>\n",
       "      <td>0.108262</td>\n",
       "      <td>-0.012628</td>\n",
       "      <td>0.068230</td>\n",
       "      <td>0.039798</td>\n",
       "      <td>-0.023439</td>\n",
       "      <td>1.000000</td>\n",
       "    </tr>\n",
       "  </tbody>\n",
       "</table>\n",
       "</div>"
      ],
      "text/plain": [
       "          Survived    Pclass       Sex       Age     SibSp     Parch  \\\n",
       "Survived  1.000000 -0.338481 -0.543351 -0.025726 -0.035322  0.081629   \n",
       "Pclass   -0.338481  1.000000  0.131900 -0.274381  0.083081  0.018443   \n",
       "Sex      -0.543351  0.131900  1.000000  0.057265 -0.114631 -0.245489   \n",
       "Age      -0.025726 -0.274381  0.057265  1.000000 -0.172218 -0.122593   \n",
       "SibSp    -0.035322  0.083081 -0.114631 -0.172218  1.000000  0.414838   \n",
       "Parch     0.081629  0.018443 -0.245489 -0.122593  0.414838  1.000000   \n",
       "Fare      0.190926 -0.433904 -0.102979  0.076522  0.262825  0.293337   \n",
       "Embarked -0.167675  0.162098  0.108262 -0.012628  0.068230  0.039798   \n",
       "\n",
       "              Fare  Embarked  \n",
       "Survived  0.190926 -0.167675  \n",
       "Pclass   -0.433904  0.162098  \n",
       "Sex      -0.102979  0.108262  \n",
       "Age       0.076522 -0.012628  \n",
       "SibSp     0.262825  0.068230  \n",
       "Parch     0.293337  0.039798  \n",
       "Fare      1.000000 -0.023439  \n",
       "Embarked -0.023439  1.000000  "
      ]
     },
     "execution_count": 50,
     "metadata": {},
     "output_type": "execute_result"
    }
   ],
   "source": [
    "t =ts.corr()\n",
    "t"
   ]
  },
  {
   "cell_type": "code",
   "execution_count": 51,
   "id": "e5c04317",
   "metadata": {},
   "outputs": [
    {
     "data": {
      "text/plain": [
       "<AxesSubplot:>"
      ]
     },
     "execution_count": 51,
     "metadata": {},
     "output_type": "execute_result"
    },
    {
     "data": {
      "image/png": "[encoded data removed]",
      "text/plain": [
       "<Figure size 720x720 with 2 Axes>"
      ]
     },
     "metadata": {},
     "output_type": "display_data"
    }
   ],
   "source": [
    "plt.figure(figsize=(10,10))\n",
    "sns.heatmap(t, annot=True, linewidths=2, linecolor=\"black\", cmap=\"coolwarm_r\")"
   ]
  },
  {
   "cell_type": "markdown",
   "id": "2790f83e",
   "metadata": {},
   "source": [
    "#### Key Observations-\n",
    "\n",
    "- With the above representation, it is clearly seen that Parents and sibling like to travel together (light blue squares).\n",
    "- 'Age' and 'fare' has a high negative correlation with number of siblings.\n",
    "\n"
   ]
  },
  {
   "cell_type": "markdown",
   "id": "68f7a401",
   "metadata": {},
   "source": [
    "#### Handling Skewness"
   ]
  },
  {
   "cell_type": "code",
   "execution_count": 52,
   "id": "95cde015",
   "metadata": {},
   "outputs": [
    {
     "name": "stdout",
     "output_type": "stream",
     "text": [
      "SKEWNESS FOR ALL COLUMNS \n",
      "_______________________________________________________________\n",
      "Survived : Skewness 0.48 \n",
      "Pclass : Skewness-0.63 \n",
      "Sex : Skewness-0.62 \n",
      "Age : Skewness 0.05 \n",
      "SibSp : Skewness 3.70 \n",
      "Parch : Skewness 2.75 \n",
      "Fare : Skewness 1.62 \n",
      "Embarked : Skewness-1.26 \n"
     ]
    }
   ],
   "source": [
    "# checking for skewness \n",
    "\n",
    "print(\"SKEWNESS FOR ALL COLUMNS \")\n",
    "print(\"_______________________________________________________________\")\n",
    "\n",
    "for col in ts.columns:\n",
    "    print('{0} : Skewness{1: .2f} '. format(col,ts[col].skew()))"
   ]
  },
  {
   "cell_type": "markdown",
   "id": "365de401",
   "metadata": {},
   "source": [
    "#### Key Observations-\n",
    "\n",
    "- The columns which does not lie within the range of skewness,( +/-0.5) are:-Pclass ,SibSp, Parch and Fare ."
   ]
  },
  {
   "cell_type": "code",
   "execution_count": 53,
   "id": "4b75c3f1",
   "metadata": {},
   "outputs": [],
   "source": [
    "# removing skewness.\n",
    "\n",
    "from sklearn.preprocessing import power_transform\n",
    "titanic[['Pclass','SibSp','Parch','Fare']]=power_transform(titanic[['Pclass','SibSp','Parch','Fare']],method='yeo-johnson')"
   ]
  },
  {
   "cell_type": "code",
   "execution_count": 54,
   "id": "dad16ef5",
   "metadata": {},
   "outputs": [
    {
     "data": {
      "text/plain": [
       "Survived    0.478523\n",
       "Pclass     -0.630548\n",
       "Sex        -0.618921\n",
       "Age         0.045392\n",
       "SibSp       3.695352\n",
       "Parch       2.749117\n",
       "Fare        1.616669\n",
       "Embarked   -1.264823\n",
       "dtype: float64"
      ]
     },
     "execution_count": 54,
     "metadata": {},
     "output_type": "execute_result"
    }
   ],
   "source": [
    "ts.skew()"
   ]
  },
  {
   "cell_type": "code",
   "execution_count": 55,
   "id": "0c3df972",
   "metadata": {},
   "outputs": [
    {
     "data": {
      "text/plain": [
       "0    549\n",
       "1    342\n",
       "Name: Survived, dtype: int64"
      ]
     },
     "execution_count": 55,
     "metadata": {},
     "output_type": "execute_result"
    }
   ],
   "source": [
    "#Checking the target variable count:-\n",
    "\n",
    "ts['Survived'].value_counts()\n"
   ]
  },
  {
   "cell_type": "markdown",
   "id": "a55937e1",
   "metadata": {},
   "source": [
    "- As we can see ,here the data is not fully balanced so we'll treat the imbalance\n",
    "\n",
    "- we have around 342 survived and 549 not survived people"
   ]
  },
  {
   "cell_type": "code",
   "execution_count": 56,
   "id": "aaa22d95",
   "metadata": {},
   "outputs": [],
   "source": [
    "# splitting data into X and Y\n",
    "\n",
    "x= ts.drop(['Survived'],axis=1)\n",
    "y=ts[['Survived']]"
   ]
  },
  {
   "cell_type": "code",
   "execution_count": 57,
   "id": "a848a038",
   "metadata": {},
   "outputs": [
    {
     "data": {
      "text/html": [
       "<div>\n",
       "<style scoped>\n",
       "    .dataframe tbody tr th:only-of-type {\n",
       "        vertical-align: middle;\n",
       "    }\n",
       "\n",
       "    .dataframe tbody tr th {\n",
       "        vertical-align: top;\n",
       "    }\n",
       "\n",
       "    .dataframe thead th {\n",
       "        text-align: right;\n",
       "    }\n",
       "</style>\n",
       "<table border=\"1\" class=\"dataframe\">\n",
       "  <thead>\n",
       "    <tr style=\"text-align: right;\">\n",
       "      <th></th>\n",
       "      <th>Pclass</th>\n",
       "      <th>Sex</th>\n",
       "      <th>Age</th>\n",
       "      <th>SibSp</th>\n",
       "      <th>Parch</th>\n",
       "      <th>Fare</th>\n",
       "      <th>Embarked</th>\n",
       "    </tr>\n",
       "  </thead>\n",
       "  <tbody>\n",
       "    <tr>\n",
       "      <th>0</th>\n",
       "      <td>3</td>\n",
       "      <td>1</td>\n",
       "      <td>22.000000</td>\n",
       "      <td>1</td>\n",
       "      <td>0</td>\n",
       "      <td>7.2500</td>\n",
       "      <td>2</td>\n",
       "    </tr>\n",
       "    <tr>\n",
       "      <th>1</th>\n",
       "      <td>1</td>\n",
       "      <td>0</td>\n",
       "      <td>38.000000</td>\n",
       "      <td>1</td>\n",
       "      <td>0</td>\n",
       "      <td>14.4542</td>\n",
       "      <td>0</td>\n",
       "    </tr>\n",
       "    <tr>\n",
       "      <th>2</th>\n",
       "      <td>3</td>\n",
       "      <td>0</td>\n",
       "      <td>26.000000</td>\n",
       "      <td>0</td>\n",
       "      <td>0</td>\n",
       "      <td>7.9250</td>\n",
       "      <td>2</td>\n",
       "    </tr>\n",
       "    <tr>\n",
       "      <th>3</th>\n",
       "      <td>1</td>\n",
       "      <td>0</td>\n",
       "      <td>35.000000</td>\n",
       "      <td>1</td>\n",
       "      <td>0</td>\n",
       "      <td>53.1000</td>\n",
       "      <td>2</td>\n",
       "    </tr>\n",
       "    <tr>\n",
       "      <th>4</th>\n",
       "      <td>3</td>\n",
       "      <td>1</td>\n",
       "      <td>35.000000</td>\n",
       "      <td>0</td>\n",
       "      <td>0</td>\n",
       "      <td>8.0500</td>\n",
       "      <td>2</td>\n",
       "    </tr>\n",
       "    <tr>\n",
       "      <th>...</th>\n",
       "      <td>...</td>\n",
       "      <td>...</td>\n",
       "      <td>...</td>\n",
       "      <td>...</td>\n",
       "      <td>...</td>\n",
       "      <td>...</td>\n",
       "      <td>...</td>\n",
       "    </tr>\n",
       "    <tr>\n",
       "      <th>886</th>\n",
       "      <td>2</td>\n",
       "      <td>1</td>\n",
       "      <td>27.000000</td>\n",
       "      <td>0</td>\n",
       "      <td>0</td>\n",
       "      <td>13.0000</td>\n",
       "      <td>2</td>\n",
       "    </tr>\n",
       "    <tr>\n",
       "      <th>887</th>\n",
       "      <td>1</td>\n",
       "      <td>0</td>\n",
       "      <td>19.000000</td>\n",
       "      <td>0</td>\n",
       "      <td>0</td>\n",
       "      <td>30.0000</td>\n",
       "      <td>2</td>\n",
       "    </tr>\n",
       "    <tr>\n",
       "      <th>888</th>\n",
       "      <td>3</td>\n",
       "      <td>0</td>\n",
       "      <td>29.699118</td>\n",
       "      <td>1</td>\n",
       "      <td>2</td>\n",
       "      <td>23.4500</td>\n",
       "      <td>2</td>\n",
       "    </tr>\n",
       "    <tr>\n",
       "      <th>889</th>\n",
       "      <td>1</td>\n",
       "      <td>1</td>\n",
       "      <td>26.000000</td>\n",
       "      <td>0</td>\n",
       "      <td>0</td>\n",
       "      <td>30.0000</td>\n",
       "      <td>0</td>\n",
       "    </tr>\n",
       "    <tr>\n",
       "      <th>890</th>\n",
       "      <td>3</td>\n",
       "      <td>1</td>\n",
       "      <td>32.000000</td>\n",
       "      <td>0</td>\n",
       "      <td>0</td>\n",
       "      <td>7.7500</td>\n",
       "      <td>1</td>\n",
       "    </tr>\n",
       "  </tbody>\n",
       "</table>\n",
       "<p>891 rows × 7 columns</p>\n",
       "</div>"
      ],
      "text/plain": [
       "     Pclass  Sex        Age  SibSp  Parch     Fare  Embarked\n",
       "0         3    1  22.000000      1      0   7.2500         2\n",
       "1         1    0  38.000000      1      0  14.4542         0\n",
       "2         3    0  26.000000      0      0   7.9250         2\n",
       "3         1    0  35.000000      1      0  53.1000         2\n",
       "4         3    1  35.000000      0      0   8.0500         2\n",
       "..      ...  ...        ...    ...    ...      ...       ...\n",
       "886       2    1  27.000000      0      0  13.0000         2\n",
       "887       1    0  19.000000      0      0  30.0000         2\n",
       "888       3    0  29.699118      1      2  23.4500         2\n",
       "889       1    1  26.000000      0      0  30.0000         0\n",
       "890       3    1  32.000000      0      0   7.7500         1\n",
       "\n",
       "[891 rows x 7 columns]"
      ]
     },
     "execution_count": 57,
     "metadata": {},
     "output_type": "execute_result"
    }
   ],
   "source": [
    "x"
   ]
  },
  {
   "cell_type": "code",
   "execution_count": 58,
   "id": "ff3e801c",
   "metadata": {},
   "outputs": [
    {
     "data": {
      "text/html": [
       "<div>\n",
       "<style scoped>\n",
       "    .dataframe tbody tr th:only-of-type {\n",
       "        vertical-align: middle;\n",
       "    }\n",
       "\n",
       "    .dataframe tbody tr th {\n",
       "        vertical-align: top;\n",
       "    }\n",
       "\n",
       "    .dataframe thead th {\n",
       "        text-align: right;\n",
       "    }\n",
       "</style>\n",
       "<table border=\"1\" class=\"dataframe\">\n",
       "  <thead>\n",
       "    <tr style=\"text-align: right;\">\n",
       "      <th></th>\n",
       "      <th>Survived</th>\n",
       "    </tr>\n",
       "  </thead>\n",
       "  <tbody>\n",
       "    <tr>\n",
       "      <th>0</th>\n",
       "      <td>0</td>\n",
       "    </tr>\n",
       "    <tr>\n",
       "      <th>1</th>\n",
       "      <td>1</td>\n",
       "    </tr>\n",
       "    <tr>\n",
       "      <th>2</th>\n",
       "      <td>1</td>\n",
       "    </tr>\n",
       "    <tr>\n",
       "      <th>3</th>\n",
       "      <td>1</td>\n",
       "    </tr>\n",
       "    <tr>\n",
       "      <th>4</th>\n",
       "      <td>0</td>\n",
       "    </tr>\n",
       "    <tr>\n",
       "      <th>...</th>\n",
       "      <td>...</td>\n",
       "    </tr>\n",
       "    <tr>\n",
       "      <th>886</th>\n",
       "      <td>0</td>\n",
       "    </tr>\n",
       "    <tr>\n",
       "      <th>887</th>\n",
       "      <td>1</td>\n",
       "    </tr>\n",
       "    <tr>\n",
       "      <th>888</th>\n",
       "      <td>0</td>\n",
       "    </tr>\n",
       "    <tr>\n",
       "      <th>889</th>\n",
       "      <td>1</td>\n",
       "    </tr>\n",
       "    <tr>\n",
       "      <th>890</th>\n",
       "      <td>0</td>\n",
       "    </tr>\n",
       "  </tbody>\n",
       "</table>\n",
       "<p>891 rows × 1 columns</p>\n",
       "</div>"
      ],
      "text/plain": [
       "     Survived\n",
       "0           0\n",
       "1           1\n",
       "2           1\n",
       "3           1\n",
       "4           0\n",
       "..        ...\n",
       "886         0\n",
       "887         1\n",
       "888         0\n",
       "889         1\n",
       "890         0\n",
       "\n",
       "[891 rows x 1 columns]"
      ]
     },
     "execution_count": 58,
     "metadata": {},
     "output_type": "execute_result"
    }
   ],
   "source": [
    "y"
   ]
  },
  {
   "cell_type": "code",
   "execution_count": 59,
   "id": "380b09f8",
   "metadata": {},
   "outputs": [],
   "source": [
    "# Importing library-\n",
    "\n",
    "from imblearn.over_sampling import SMOTE"
   ]
  },
  {
   "cell_type": "code",
   "execution_count": 60,
   "id": "fe2edacd",
   "metadata": {},
   "outputs": [],
   "source": [
    "sm=SMOTE()\n",
    "\n",
    "x,y = sm.fit_resample(x,y)"
   ]
  },
  {
   "cell_type": "code",
   "execution_count": 61,
   "id": "0bbac8c0",
   "metadata": {},
   "outputs": [
    {
     "data": {
      "text/plain": [
       "Survived\n",
       "0           549\n",
       "1           549\n",
       "dtype: int64"
      ]
     },
     "execution_count": 61,
     "metadata": {},
     "output_type": "execute_result"
    }
   ],
   "source": [
    "y.value_counts()  # rechecking the counts after SMOTE Technique"
   ]
  },
  {
   "cell_type": "markdown",
   "id": "f76b6189",
   "metadata": {},
   "source": [
    "- Now the data looks Balanced."
   ]
  },
  {
   "cell_type": "markdown",
   "id": "70241c20",
   "metadata": {},
   "source": [
    "### MODEL BUILDING-"
   ]
  },
  {
   "cell_type": "code",
   "execution_count": 62,
   "id": "c66a8827",
   "metadata": {},
   "outputs": [],
   "source": [
    "#for Training-testing data\n",
    "from sklearn.model_selection import train_test_split\n",
    "\n",
    "# Models:\n",
    "from sklearn.linear_model import LogisticRegression\n",
    "from sklearn.tree import DecisionTreeClassifier\n",
    "from sklearn.neighbors import KNeighborsClassifier\n",
    "from sklearn.svm import SVC\n",
    "from sklearn.naive_bayes import GaussianNB\n",
    "from sklearn.ensemble import RandomForestClassifier\n",
    "from sklearn.ensemble import AdaBoostClassifier\n",
    "from sklearn.ensemble import GradientBoostingClassifier\n",
    "\n",
    "\n",
    "# for cross validation\n",
    "from sklearn.model_selection import cross_val_score,GridSearchCV\n",
    "\n",
    "# Matrics for Evaluation\n",
    "from sklearn.metrics import accuracy_score,classification_report,confusion_matrix,roc_auc_score"
   ]
  },
  {
   "cell_type": "markdown",
   "id": "4cbf8247",
   "metadata": {},
   "source": [
    "#### 1)LOGISTIC REGRESSION"
   ]
  },
  {
   "cell_type": "code",
   "execution_count": 63,
   "id": "b6192df0",
   "metadata": {},
   "outputs": [],
   "source": [
    "lg=LogisticRegression()"
   ]
  },
  {
   "cell_type": "markdown",
   "id": "7551aba5",
   "metadata": {},
   "source": [
    "#### Splitting the data into training and testing Data"
   ]
  },
  {
   "cell_type": "code",
   "execution_count": 72,
   "id": "cd4e76bb",
   "metadata": {},
   "outputs": [
    {
     "name": "stdout",
     "output_type": "stream",
     "text": [
      "At random state 0,the training accuracy is :- 0.8109339407744874\n",
      "At random state 0,the test accuracy is :- 0.7909090909090909\n",
      "\n",
      "\n",
      "At random state 1,the training accuracy is :- 0.8211845102505695\n",
      "At random state 1,the test accuracy is :- 0.7909090909090909\n",
      "\n",
      "\n",
      "At random state 2,the training accuracy is :- 0.8097949886104784\n",
      "At random state 2,the test accuracy is :- 0.8454545454545455\n",
      "\n",
      "\n",
      "At random state 3,the training accuracy is :- 0.8154897494305239\n",
      "At random state 3,the test accuracy is :- 0.7863636363636364\n",
      "\n",
      "\n",
      "At random state 4,the training accuracy is :- 0.806378132118451\n",
      "At random state 4,the test accuracy is :- 0.8409090909090909\n",
      "\n",
      "\n",
      "At random state 5,the training accuracy is :- 0.8109339407744874\n",
      "At random state 5,the test accuracy is :- 0.8181818181818182\n",
      "\n",
      "\n",
      "At random state 6,the training accuracy is :- 0.7927107061503417\n",
      "At random state 6,the test accuracy is :- 0.8454545454545455\n",
      "\n",
      "\n",
      "At random state 7,the training accuracy is :- 0.8211845102505695\n",
      "At random state 7,the test accuracy is :- 0.7545454545454545\n",
      "\n",
      "\n",
      "At random state 8,the training accuracy is :- 0.8132118451025057\n",
      "At random state 8,the test accuracy is :- 0.8090909090909091\n",
      "\n",
      "\n",
      "At random state 9,the training accuracy is :- 0.8086560364464692\n",
      "At random state 9,the test accuracy is :- 0.8363636363636363\n",
      "\n",
      "\n",
      "At random state 10,the training accuracy is :- 0.8029612756264237\n",
      "At random state 10,the test accuracy is :- 0.8227272727272728\n",
      "\n",
      "\n",
      "At random state 11,the training accuracy is :- 0.8075170842824602\n",
      "At random state 11,the test accuracy is :- 0.8136363636363636\n",
      "\n",
      "\n",
      "At random state 12,the training accuracy is :- 0.8029612756264237\n",
      "At random state 12,the test accuracy is :- 0.8227272727272728\n",
      "\n",
      "\n",
      "At random state 13,the training accuracy is :- 0.8143507972665148\n",
      "At random state 13,the test accuracy is :- 0.8181818181818182\n",
      "\n",
      "\n",
      "At random state 14,the training accuracy is :- 0.8143507972665148\n",
      "At random state 14,the test accuracy is :- 0.7772727272727272\n",
      "\n",
      "\n",
      "At random state 15,the training accuracy is :- 0.8097949886104784\n",
      "At random state 15,the test accuracy is :- 0.7727272727272727\n",
      "\n",
      "\n",
      "At random state 16,the training accuracy is :- 0.8018223234624146\n",
      "At random state 16,the test accuracy is :- 0.8136363636363636\n",
      "\n",
      "\n",
      "At random state 17,the training accuracy is :- 0.8018223234624146\n",
      "At random state 17,the test accuracy is :- 0.8227272727272728\n",
      "\n",
      "\n",
      "At random state 18,the training accuracy is :- 0.7995444191343963\n",
      "At random state 18,the test accuracy is :- 0.8363636363636363\n",
      "\n",
      "\n",
      "At random state 19,the training accuracy is :- 0.8132118451025057\n",
      "At random state 19,the test accuracy is :- 0.7818181818181819\n",
      "\n",
      "\n",
      "At random state 20,the training accuracy is :- 0.8120728929384966\n",
      "At random state 20,the test accuracy is :- 0.8181818181818182\n",
      "\n",
      "\n",
      "At random state 21,the training accuracy is :- 0.7984054669703873\n",
      "At random state 21,the test accuracy is :- 0.8045454545454546\n",
      "\n",
      "\n",
      "At random state 22,the training accuracy is :- 0.8052391799544419\n",
      "At random state 22,the test accuracy is :- 0.8181818181818182\n",
      "\n",
      "\n",
      "At random state 23,the training accuracy is :- 0.8189066059225513\n",
      "At random state 23,the test accuracy is :- 0.7681818181818182\n",
      "\n",
      "\n",
      "At random state 24,the training accuracy is :- 0.8177676537585421\n",
      "At random state 24,the test accuracy is :- 0.8090909090909091\n",
      "\n",
      "\n",
      "At random state 25,the training accuracy is :- 0.7972665148063781\n",
      "At random state 25,the test accuracy is :- 0.8136363636363636\n",
      "\n",
      "\n",
      "At random state 26,the training accuracy is :- 0.7984054669703873\n",
      "At random state 26,the test accuracy is :- 0.8181818181818182\n",
      "\n",
      "\n",
      "At random state 27,the training accuracy is :- 0.8086560364464692\n",
      "At random state 27,the test accuracy is :- 0.7772727272727272\n",
      "\n",
      "\n",
      "At random state 28,the training accuracy is :- 0.8154897494305239\n",
      "At random state 28,the test accuracy is :- 0.7909090909090909\n",
      "\n",
      "\n",
      "At random state 29,the training accuracy is :- 0.7984054669703873\n",
      "At random state 29,the test accuracy is :- 0.8454545454545455\n",
      "\n",
      "\n",
      "At random state 30,the training accuracy is :- 0.8211845102505695\n",
      "At random state 30,the test accuracy is :- 0.7772727272727272\n",
      "\n",
      "\n",
      "At random state 31,the training accuracy is :- 0.8154897494305239\n",
      "At random state 31,the test accuracy is :- 0.7954545454545454\n",
      "\n",
      "\n",
      "At random state 32,the training accuracy is :- 0.8154897494305239\n",
      "At random state 32,the test accuracy is :- 0.7863636363636364\n",
      "\n",
      "\n",
      "At random state 33,the training accuracy is :- 0.8041002277904328\n",
      "At random state 33,the test accuracy is :- 0.8181818181818182\n",
      "\n",
      "\n",
      "At random state 34,the training accuracy is :- 0.7961275626423691\n",
      "At random state 34,the test accuracy is :- 0.8409090909090909\n",
      "\n",
      "\n",
      "At random state 35,the training accuracy is :- 0.8018223234624146\n",
      "At random state 35,the test accuracy is :- 0.8181818181818182\n",
      "\n",
      "\n",
      "At random state 36,the training accuracy is :- 0.8132118451025057\n",
      "At random state 36,the test accuracy is :- 0.7863636363636364\n",
      "\n",
      "\n",
      "At random state 37,the training accuracy is :- 0.8018223234624146\n",
      "At random state 37,the test accuracy is :- 0.7818181818181819\n",
      "\n",
      "\n",
      "At random state 38,the training accuracy is :- 0.806378132118451\n",
      "At random state 38,the test accuracy is :- 0.8045454545454546\n",
      "\n",
      "\n",
      "At random state 39,the training accuracy is :- 0.806378132118451\n",
      "At random state 39,the test accuracy is :- 0.8\n",
      "\n",
      "\n",
      "At random state 40,the training accuracy is :- 0.8052391799544419\n",
      "At random state 40,the test accuracy is :- 0.7909090909090909\n",
      "\n",
      "\n",
      "At random state 41,the training accuracy is :- 0.8018223234624146\n",
      "At random state 41,the test accuracy is :- 0.8363636363636363\n",
      "\n",
      "\n",
      "At random state 42,the training accuracy is :- 0.8041002277904328\n",
      "At random state 42,the test accuracy is :- 0.8181818181818182\n",
      "\n",
      "\n",
      "At random state 43,the training accuracy is :- 0.8120728929384966\n",
      "At random state 43,the test accuracy is :- 0.7909090909090909\n",
      "\n",
      "\n",
      "At random state 44,the training accuracy is :- 0.8223234624145785\n",
      "At random state 44,the test accuracy is :- 0.7727272727272727\n",
      "\n",
      "\n",
      "At random state 45,the training accuracy is :- 0.8041002277904328\n",
      "At random state 45,the test accuracy is :- 0.8045454545454546\n",
      "\n",
      "\n",
      "At random state 46,the training accuracy is :- 0.8143507972665148\n",
      "At random state 46,the test accuracy is :- 0.7636363636363637\n",
      "\n",
      "\n",
      "At random state 47,the training accuracy is :- 0.8109339407744874\n",
      "At random state 47,the test accuracy is :- 0.8090909090909091\n",
      "\n",
      "\n",
      "At random state 48,the training accuracy is :- 0.8132118451025057\n",
      "At random state 48,the test accuracy is :- 0.7772727272727272\n",
      "\n",
      "\n",
      "At random state 49,the training accuracy is :- 0.8041002277904328\n",
      "At random state 49,the test accuracy is :- 0.7954545454545454\n",
      "\n",
      "\n",
      "At random state 50,the training accuracy is :- 0.8006833712984055\n",
      "At random state 50,the test accuracy is :- 0.8318181818181818\n",
      "\n",
      "\n",
      "At random state 51,the training accuracy is :- 0.8029612756264237\n",
      "At random state 51,the test accuracy is :- 0.8227272727272728\n",
      "\n",
      "\n",
      "At random state 52,the training accuracy is :- 0.8177676537585421\n",
      "At random state 52,the test accuracy is :- 0.8\n",
      "\n",
      "\n",
      "At random state 53,the training accuracy is :- 0.8120728929384966\n",
      "At random state 53,the test accuracy is :- 0.7863636363636364\n",
      "\n",
      "\n",
      "At random state 54,the training accuracy is :- 0.8097949886104784\n",
      "At random state 54,the test accuracy is :- 0.7909090909090909\n",
      "\n",
      "\n",
      "At random state 55,the training accuracy is :- 0.8109339407744874\n",
      "At random state 55,the test accuracy is :- 0.8\n",
      "\n",
      "\n",
      "At random state 56,the training accuracy is :- 0.8075170842824602\n",
      "At random state 56,the test accuracy is :- 0.8227272727272728\n",
      "\n",
      "\n",
      "At random state 57,the training accuracy is :- 0.7961275626423691\n",
      "At random state 57,the test accuracy is :- 0.8409090909090909\n",
      "\n",
      "\n",
      "At random state 58,the training accuracy is :- 0.8029612756264237\n",
      "At random state 58,the test accuracy is :- 0.8454545454545455\n",
      "\n",
      "\n",
      "At random state 59,the training accuracy is :- 0.8120728929384966\n",
      "At random state 59,the test accuracy is :- 0.7772727272727272\n",
      "\n",
      "\n",
      "At random state 60,the training accuracy is :- 0.8132118451025057\n",
      "At random state 60,the test accuracy is :- 0.7909090909090909\n",
      "\n",
      "\n",
      "At random state 61,the training accuracy is :- 0.8097949886104784\n",
      "At random state 61,the test accuracy is :- 0.7954545454545454\n",
      "\n",
      "\n",
      "At random state 62,the training accuracy is :- 0.8029612756264237\n",
      "At random state 62,the test accuracy is :- 0.85\n",
      "\n",
      "\n",
      "At random state 63,the training accuracy is :- 0.7949886104783599\n",
      "At random state 63,the test accuracy is :- 0.8590909090909091\n",
      "\n",
      "\n",
      "At random state 64,the training accuracy is :- 0.8029612756264237\n",
      "At random state 64,the test accuracy is :- 0.8227272727272728\n",
      "\n",
      "\n",
      "At random state 65,the training accuracy is :- 0.8029612756264237\n"
     ]
    },
    {
     "name": "stdout",
     "output_type": "stream",
     "text": [
      "At random state 65,the test accuracy is :- 0.8181818181818182\n",
      "\n",
      "\n",
      "At random state 66,the training accuracy is :- 0.8052391799544419\n",
      "At random state 66,the test accuracy is :- 0.8272727272727273\n",
      "\n",
      "\n",
      "At random state 67,the training accuracy is :- 0.8041002277904328\n",
      "At random state 67,the test accuracy is :- 0.8318181818181818\n",
      "\n",
      "\n",
      "At random state 68,the training accuracy is :- 0.7995444191343963\n",
      "At random state 68,the test accuracy is :- 0.8363636363636363\n",
      "\n",
      "\n",
      "At random state 69,the training accuracy is :- 0.806378132118451\n",
      "At random state 69,the test accuracy is :- 0.8090909090909091\n",
      "\n",
      "\n",
      "At random state 70,the training accuracy is :- 0.8041002277904328\n",
      "At random state 70,the test accuracy is :- 0.8136363636363636\n",
      "\n",
      "\n",
      "At random state 71,the training accuracy is :- 0.806378132118451\n",
      "At random state 71,the test accuracy is :- 0.8045454545454546\n",
      "\n",
      "\n",
      "At random state 72,the training accuracy is :- 0.8143507972665148\n",
      "At random state 72,the test accuracy is :- 0.7818181818181819\n",
      "\n",
      "\n",
      "At random state 73,the training accuracy is :- 0.8109339407744874\n",
      "At random state 73,the test accuracy is :- 0.8\n",
      "\n",
      "\n",
      "At random state 74,the training accuracy is :- 0.806378132118451\n",
      "At random state 74,the test accuracy is :- 0.8409090909090909\n",
      "\n",
      "\n",
      "At random state 75,the training accuracy is :- 0.8211845102505695\n",
      "At random state 75,the test accuracy is :- 0.759090909090909\n",
      "\n",
      "\n",
      "At random state 76,the training accuracy is :- 0.8109339407744874\n",
      "At random state 76,the test accuracy is :- 0.8\n",
      "\n",
      "\n",
      "At random state 77,the training accuracy is :- 0.8041002277904328\n",
      "At random state 77,the test accuracy is :- 0.8318181818181818\n",
      "\n",
      "\n",
      "At random state 78,the training accuracy is :- 0.8052391799544419\n",
      "At random state 78,the test accuracy is :- 0.8136363636363636\n",
      "\n",
      "\n",
      "At random state 79,the training accuracy is :- 0.816628701594533\n",
      "At random state 79,the test accuracy is :- 0.7818181818181819\n",
      "\n",
      "\n",
      "At random state 80,the training accuracy is :- 0.8337129840546698\n",
      "At random state 80,the test accuracy is :- 0.7454545454545455\n",
      "\n",
      "\n",
      "At random state 81,the training accuracy is :- 0.8086560364464692\n",
      "At random state 81,the test accuracy is :- 0.7909090909090909\n",
      "\n",
      "\n",
      "At random state 82,the training accuracy is :- 0.816628701594533\n",
      "At random state 82,the test accuracy is :- 0.7909090909090909\n",
      "\n",
      "\n",
      "At random state 83,the training accuracy is :- 0.8075170842824602\n",
      "At random state 83,the test accuracy is :- 0.7954545454545454\n",
      "\n",
      "\n",
      "At random state 84,the training accuracy is :- 0.8189066059225513\n",
      "At random state 84,the test accuracy is :- 0.7636363636363637\n",
      "\n",
      "\n",
      "At random state 85,the training accuracy is :- 0.8052391799544419\n",
      "At random state 85,the test accuracy is :- 0.8272727272727273\n",
      "\n",
      "\n",
      "At random state 86,the training accuracy is :- 0.8052391799544419\n",
      "At random state 86,the test accuracy is :- 0.8318181818181818\n",
      "\n",
      "\n",
      "At random state 87,the training accuracy is :- 0.8086560364464692\n",
      "At random state 87,the test accuracy is :- 0.7727272727272727\n",
      "\n",
      "\n",
      "At random state 88,the training accuracy is :- 0.8097949886104784\n",
      "At random state 88,the test accuracy is :- 0.7818181818181819\n",
      "\n",
      "\n",
      "At random state 89,the training accuracy is :- 0.8314350797266514\n",
      "At random state 89,the test accuracy is :- 0.740909090909091\n",
      "\n",
      "\n",
      "At random state 90,the training accuracy is :- 0.8075170842824602\n",
      "At random state 90,the test accuracy is :- 0.8181818181818182\n",
      "\n",
      "\n",
      "At random state 91,the training accuracy is :- 0.806378132118451\n",
      "At random state 91,the test accuracy is :- 0.8090909090909091\n",
      "\n",
      "\n",
      "At random state 92,the training accuracy is :- 0.8006833712984055\n",
      "At random state 92,the test accuracy is :- 0.8227272727272728\n",
      "\n",
      "\n",
      "At random state 93,the training accuracy is :- 0.8109339407744874\n",
      "At random state 93,the test accuracy is :- 0.8045454545454546\n",
      "\n",
      "\n",
      "At random state 94,the training accuracy is :- 0.8200455580865603\n",
      "At random state 94,the test accuracy is :- 0.759090909090909\n",
      "\n",
      "\n",
      "At random state 95,the training accuracy is :- 0.8120728929384966\n",
      "At random state 95,the test accuracy is :- 0.8136363636363636\n",
      "\n",
      "\n",
      "At random state 96,the training accuracy is :- 0.8132118451025057\n",
      "At random state 96,the test accuracy is :- 0.7818181818181819\n",
      "\n",
      "\n",
      "At random state 97,the training accuracy is :- 0.8246013667425968\n",
      "At random state 97,the test accuracy is :- 0.7909090909090909\n",
      "\n",
      "\n",
      "At random state 98,the training accuracy is :- 0.8097949886104784\n",
      "At random state 98,the test accuracy is :- 0.8181818181818182\n",
      "\n",
      "\n",
      "At random state 99,the training accuracy is :- 0.8120728929384966\n",
      "At random state 99,the test accuracy is :- 0.8136363636363636\n",
      "\n",
      "\n"
     ]
    }
   ],
   "source": [
    "#split data, using train_test_split\n",
    "for i in range(0,100):\n",
    "    x_train,x_test,y_train,y_test = train_test_split(x,y,test_size=0.2,random_state=i)\n",
    "    lg.fit(x_train,y_train)\n",
    "    pred_train = lg.predict(x_train)\n",
    "    pred_test = lg.predict(x_test)\n",
    "    \n",
    "    if round(accuracy_score(y_train,pred_train)*100,1)==round(accuracy_score(y_test,pred_test)*100,1):\n",
    "        print(\"At random state\",i,\"The model performs well\")\n",
    "        \n",
    "    print(f\"At random state {i},the training accuracy is :- {accuracy_score(y_train,pred_train)}\")\n",
    "    print(f\"At random state {i},the test accuracy is :- {accuracy_score(y_test,pred_test)}\")\n",
    "    print(\"\\n\") "
   ]
  },
  {
   "cell_type": "markdown",
   "id": "8aa1eaa8",
   "metadata": {},
   "source": [
    "- For Model Training:Taking the random state where difference between training and testing accuracy is minimum. Taking random state = 5"
   ]
  },
  {
   "cell_type": "code",
   "execution_count": 67,
   "id": "742c898f",
   "metadata": {},
   "outputs": [
    {
     "name": "stdout",
     "output_type": "stream",
     "text": [
      "Size of X_train :  (878, 7)\n",
      "Size of y_train :  (878, 1)\n",
      "Size of X_test :  (220, 7)\n",
      "Size of Y_test :  (220, 1)\n"
     ]
    }
   ],
   "source": [
    "print('Size of X_train : ', x_train.shape)\n",
    "print('Size of y_train : ', y_train.shape)\n",
    "print('Size of X_test : ', x_test.shape)\n",
    "print('Size of Y_test : ', y_test.shape)"
   ]
  },
  {
   "cell_type": "code",
   "execution_count": 68,
   "id": "3ed649c7",
   "metadata": {},
   "outputs": [
    {
     "name": "stdout",
     "output_type": "stream",
     "text": [
      "(1098, 7) (878, 7) (220, 7)\n"
     ]
    }
   ],
   "source": [
    "print(x.shape, x_train.shape,x_test.shape)"
   ]
  },
  {
   "cell_type": "code",
   "execution_count": 73,
   "id": "e597a176",
   "metadata": {},
   "outputs": [],
   "source": [
    "x_train,x_test,y_train,y_test = train_test_split(x,y,test_size=0.2,random_state=5)"
   ]
  },
  {
   "cell_type": "code",
   "execution_count": 74,
   "id": "997198ea",
   "metadata": {},
   "outputs": [
    {
     "name": "stdout",
     "output_type": "stream",
     "text": [
      "\n",
      "=======================Train Result===========================\n",
      "Accuracy score:81.09%\n",
      "_______________________________________________________________\n",
      "CLASSIFICATION REPORT:\n",
      "                    0           1  accuracy   macro avg  weighted avg\n",
      "precision    0.808791    0.813239  0.810934    0.811015      0.810974\n",
      "recall       0.823266    0.798144  0.810934    0.810705      0.810934\n",
      "f1-score     0.815965    0.805621  0.810934    0.810793      0.810887\n",
      "support    447.000000  431.000000  0.810934  878.000000    878.000000\n",
      "________________________________________________________________\n",
      " Confusion Matrix:\n",
      "[[368  79]\n",
      " [ 87 344]]\n",
      "\n",
      "\n",
      "\n",
      "Roc_auc Score 0.810705035373747\n"
     ]
    }
   ],
   "source": [
    "# training the data\n",
    "lg.fit(x_train,y_train)\n",
    "predlg = lg.predict(x_train)\n",
    "\n",
    "lg_report = pd.DataFrame(classification_report(y_train,predlg,output_dict=True))\n",
    "print(\"\\n=======================Train Result===========================\")\n",
    "print(f\"Accuracy score:{accuracy_score(y_train,predlg)*100:.2f}%\")\n",
    "print(\"_______________________________________________________________\")\n",
    "print(f\"CLASSIFICATION REPORT:\\n{lg_report}\")\n",
    "print(\"________________________________________________________________\")\n",
    "print(f\" Confusion Matrix:\\n{confusion_matrix(y_train,predlg)}\\n\")\n",
    "print('\\n')\n",
    "print('Roc_auc Score',roc_auc_score(y_train,predlg))"
   ]
  },
  {
   "cell_type": "code",
   "execution_count": 75,
   "id": "362f6bc4",
   "metadata": {},
   "outputs": [
    {
     "name": "stdout",
     "output_type": "stream",
     "text": [
      "\n",
      "=======================Test Result===========================\n",
      "Accuracy score:81.82%\n",
      "_______________________________________________________________\n",
      "CLASSIFICATION REPORT:\n",
      "               precision    recall  f1-score   support\n",
      "\n",
      "           0       0.80      0.80      0.80       102\n",
      "           1       0.83      0.83      0.83       118\n",
      "\n",
      "    accuracy                           0.82       220\n",
      "   macro avg       0.82      0.82      0.82       220\n",
      "weighted avg       0.82      0.82      0.82       220\n",
      "\n",
      "________________________________________________________________\n",
      " Confusion Matrix:\n",
      "[[82 20]\n",
      " [20 98]]\n",
      "\n",
      "\n",
      "\n",
      "Roc_auc Score 0.8172150216018611\n"
     ]
    }
   ],
   "source": [
    "#testing the data\n",
    "lg=LogisticRegression()\n",
    "lg.fit(x_train,y_train)\n",
    "lg.score(x_train,y_train)\n",
    "predlg = lg.predict(x_test)\n",
    "\n",
    "\n",
    "print(\"\\n=======================Test Result===========================\")\n",
    "print(f\"Accuracy score:{accuracy_score(y_test,predlg)*100:.2f}%\")\n",
    "print(\"_______________________________________________________________\")\n",
    "print(f\"CLASSIFICATION REPORT:\\n\",(classification_report(y_test,predlg)))\n",
    "print(\"________________________________________________________________\")\n",
    "print(f\" Confusion Matrix:\\n{confusion_matrix(y_test,predlg)}\\n\")\n",
    "print('\\n')\n",
    "print('Roc_auc Score',roc_auc_score(y_test,predlg))"
   ]
  },
  {
   "cell_type": "markdown",
   "id": "47c61378",
   "metadata": {},
   "source": [
    "#### 2)DECISION TREE CLASSIFIER"
   ]
  },
  {
   "cell_type": "code",
   "execution_count": 76,
   "id": "697fd47b",
   "metadata": {},
   "outputs": [],
   "source": [
    "dt=DecisionTreeClassifier()"
   ]
  },
  {
   "cell_type": "code",
   "execution_count": 77,
   "id": "91e3c43f",
   "metadata": {},
   "outputs": [
    {
     "name": "stdout",
     "output_type": "stream",
     "text": [
      "\n",
      "=======================Train Result===========================\n",
      "Accuracy score:98.29%\n",
      "_______________________________________________________________\n",
      "CLASSIFICATION REPORT:\n",
      "               precision    recall  f1-score   support\n",
      "\n",
      "           0       0.97      1.00      0.98       447\n",
      "           1       1.00      0.97      0.98       431\n",
      "\n",
      "    accuracy                           0.98       878\n",
      "   macro avg       0.98      0.98      0.98       878\n",
      "weighted avg       0.98      0.98      0.98       878\n",
      "\n",
      "________________________________________________________________\n",
      " Confusion Matrix:\n",
      "[[445   2]\n",
      " [ 13 418]]\n",
      "\n",
      "\n",
      "\n",
      "Roc_auc Score 0.9826816570381559\n"
     ]
    }
   ],
   "source": [
    "# training the data\n",
    "dt.fit(x_train,y_train)\n",
    "preddt = dt.predict(x_train)\n",
    "\n",
    "\n",
    "print(\"\\n=======================Train Result===========================\")\n",
    "print(f\"Accuracy score:{accuracy_score(y_train,preddt)*100:.2f}%\")\n",
    "print(\"_______________________________________________________________\")\n",
    "print(f\"CLASSIFICATION REPORT:\\n\",(classification_report(y_train,preddt)))\n",
    "print(\"________________________________________________________________\")\n",
    "print(f\" Confusion Matrix:\\n{confusion_matrix(y_train,preddt)}\\n\")\n",
    "print('\\n')\n",
    "print('Roc_auc Score',roc_auc_score(y_train,preddt))"
   ]
  },
  {
   "cell_type": "code",
   "execution_count": 78,
   "id": "59ca2664",
   "metadata": {},
   "outputs": [
    {
     "name": "stdout",
     "output_type": "stream",
     "text": [
      "\n",
      "=======================Test Result===========================\n",
      "Accuracy score:82.73%\n",
      "_______________________________________________________________\n",
      "CLASSIFICATION REPORT:\n",
      "               precision    recall  f1-score   support\n",
      "\n",
      "           0       0.81      0.82      0.82       102\n",
      "           1       0.84      0.83      0.84       118\n",
      "\n",
      "    accuracy                           0.83       220\n",
      "   macro avg       0.83      0.83      0.83       220\n",
      "weighted avg       0.83      0.83      0.83       220\n",
      "\n",
      "________________________________________________________________\n",
      " Confusion Matrix:\n",
      "[[84 18]\n",
      " [20 98]]\n",
      "\n",
      "\n",
      "\n",
      "Roc_auc Score 0.8270189431704885\n"
     ]
    }
   ],
   "source": [
    "#testing the data\n",
    "\n",
    "dt.fit(x_train,y_train)\n",
    "dt.score(x_train,y_train)\n",
    "preddt = dt.predict(x_test)\n",
    "\n",
    "\n",
    "print(\"\\n=======================Test Result===========================\")\n",
    "print(f\"Accuracy score:{accuracy_score(y_test,preddt)*100:.2f}%\")\n",
    "print(\"_______________________________________________________________\")\n",
    "print(f\"CLASSIFICATION REPORT:\\n\",(classification_report(y_test,preddt)))\n",
    "print(\"________________________________________________________________\")\n",
    "print(f\" Confusion Matrix:\\n{confusion_matrix(y_test,preddt)}\\n\")\n",
    "print('\\n')\n",
    "print('Roc_auc Score',roc_auc_score(y_test,preddt))"
   ]
  },
  {
   "cell_type": "markdown",
   "id": "a8e94f09",
   "metadata": {},
   "source": [
    "#### 3) K-Nearest Neighbour"
   ]
  },
  {
   "cell_type": "code",
   "execution_count": 79,
   "id": "b56ff250",
   "metadata": {},
   "outputs": [],
   "source": [
    "knn=KNeighborsClassifier()"
   ]
  },
  {
   "cell_type": "code",
   "execution_count": 80,
   "id": "767b5d34",
   "metadata": {},
   "outputs": [
    {
     "name": "stdout",
     "output_type": "stream",
     "text": [
      "\n",
      "=======================Train Result===========================\n",
      "Accuracy score:82.23%\n",
      "_______________________________________________________________\n",
      "CLASSIFICATION REPORT:\n",
      "               precision    recall  f1-score   support\n",
      "\n",
      "           0       0.85      0.80      0.82       447\n",
      "           1       0.80      0.85      0.82       431\n",
      "\n",
      "    accuracy                           0.82       878\n",
      "   macro avg       0.82      0.82      0.82       878\n",
      "weighted avg       0.82      0.82      0.82       878\n",
      "\n",
      "________________________________________________________________\n",
      " Confusion Matrix:\n",
      "[[356  91]\n",
      " [ 65 366]]\n",
      "\n",
      "\n",
      "\n",
      "Roc_auc Score 0.8228042583451419\n"
     ]
    }
   ],
   "source": [
    "# training the data\n",
    "knn.fit(x_train,y_train)\n",
    "predknn = knn.predict(x_train)\n",
    "\n",
    "\n",
    "print(\"\\n=======================Train Result===========================\")\n",
    "print(f\"Accuracy score:{accuracy_score(y_train,predknn)*100:.2f}%\")\n",
    "print(\"_______________________________________________________________\")\n",
    "print(f\"CLASSIFICATION REPORT:\\n\",(classification_report(y_train,predknn)))\n",
    "print(\"________________________________________________________________\")\n",
    "print(f\" Confusion Matrix:\\n{confusion_matrix(y_train,predknn)}\\n\")\n",
    "print('\\n')\n",
    "print('Roc_auc Score',roc_auc_score(y_train,predknn))"
   ]
  },
  {
   "cell_type": "code",
   "execution_count": 81,
   "id": "90853ded",
   "metadata": {},
   "outputs": [
    {
     "name": "stdout",
     "output_type": "stream",
     "text": [
      "\n",
      "=======================Test Result===========================\n",
      "Accuracy score:80.91%\n",
      "_______________________________________________________________\n",
      "CLASSIFICATION REPORT:\n",
      "               precision    recall  f1-score   support\n",
      "\n",
      "           0       0.79      0.80      0.80       102\n",
      "           1       0.83      0.81      0.82       118\n",
      "\n",
      "    accuracy                           0.81       220\n",
      "   macro avg       0.81      0.81      0.81       220\n",
      "weighted avg       0.81      0.81      0.81       220\n",
      "\n",
      "________________________________________________________________\n",
      " Confusion Matrix:\n",
      "[[82 20]\n",
      " [22 96]]\n",
      "\n",
      "\n",
      "\n",
      "Roc_auc Score 0.8087404453306747\n"
     ]
    }
   ],
   "source": [
    "#testing the data\n",
    "\n",
    "knn.fit(x_train,y_train)\n",
    "knn.score(x_train,y_train)\n",
    "predknn = knn.predict(x_test)\n",
    "\n",
    "\n",
    "print(\"\\n=======================Test Result===========================\")\n",
    "print(f\"Accuracy score:{accuracy_score(y_test,predknn)*100:.2f}%\")\n",
    "print(\"_______________________________________________________________\")\n",
    "print(f\"CLASSIFICATION REPORT:\\n\",(classification_report(y_test,predknn)))\n",
    "print(\"________________________________________________________________\")\n",
    "print(f\" Confusion Matrix:\\n{confusion_matrix(y_test,predknn)}\\n\")\n",
    "print('\\n')\n",
    "print('Roc_auc Score',roc_auc_score(y_test,predknn))"
   ]
  },
  {
   "cell_type": "markdown",
   "id": "e2c5fce7",
   "metadata": {},
   "source": [
    "#### 4) Naive Bayes"
   ]
  },
  {
   "cell_type": "code",
   "execution_count": 82,
   "id": "abc63f9b",
   "metadata": {},
   "outputs": [],
   "source": [
    "gnb=GaussianNB()"
   ]
  },
  {
   "cell_type": "code",
   "execution_count": 83,
   "id": "3a0fc75c",
   "metadata": {},
   "outputs": [
    {
     "name": "stdout",
     "output_type": "stream",
     "text": [
      "\n",
      "=======================Train Result===========================\n",
      "Accuracy score:80.64%\n",
      "_______________________________________________________________\n",
      "CLASSIFICATION REPORT:\n",
      "               precision    recall  f1-score   support\n",
      "\n",
      "           0       0.83      0.79      0.81       447\n",
      "           1       0.79      0.83      0.81       431\n",
      "\n",
      "    accuracy                           0.81       878\n",
      "   macro avg       0.81      0.81      0.81       878\n",
      "weighted avg       0.81      0.81      0.81       878\n",
      "\n",
      "________________________________________________________________\n",
      " Confusion Matrix:\n",
      "[[351  96]\n",
      " [ 74 357]]\n",
      "\n",
      "\n",
      "\n",
      "Roc_auc Score 0.8067705819150095\n"
     ]
    }
   ],
   "source": [
    "# training the data\n",
    "gnb.fit(x_train,y_train)\n",
    "predgnb = gnb.predict(x_train)\n",
    "\n",
    "\n",
    "print(\"\\n=======================Train Result===========================\")\n",
    "print(f\"Accuracy score:{accuracy_score(y_train,predgnb)*100:.2f}%\")\n",
    "print(\"_______________________________________________________________\")\n",
    "print(f\"CLASSIFICATION REPORT:\\n\",(classification_report(y_train,predgnb)))\n",
    "print(\"________________________________________________________________\")\n",
    "print(f\" Confusion Matrix:\\n{confusion_matrix(y_train,predgnb)}\\n\")\n",
    "print('\\n')\n",
    "print('Roc_auc Score',roc_auc_score(y_train,predgnb))"
   ]
  },
  {
   "cell_type": "code",
   "execution_count": 84,
   "id": "5175dd9b",
   "metadata": {},
   "outputs": [
    {
     "name": "stdout",
     "output_type": "stream",
     "text": [
      "\n",
      "=======================Test Result===========================\n",
      "Accuracy score:82.27%\n",
      "_______________________________________________________________\n",
      "CLASSIFICATION REPORT:\n",
      "               precision    recall  f1-score   support\n",
      "\n",
      "           0       0.84      0.76      0.80       102\n",
      "           1       0.81      0.87      0.84       118\n",
      "\n",
      "    accuracy                           0.82       220\n",
      "   macro avg       0.82      0.82      0.82       220\n",
      "weighted avg       0.82      0.82      0.82       220\n",
      "\n",
      "________________________________________________________________\n",
      " Confusion Matrix:\n",
      "[[ 78  24]\n",
      " [ 15 103]]\n",
      "\n",
      "\n",
      "\n",
      "Roc_auc Score 0.8187936191425722\n"
     ]
    }
   ],
   "source": [
    "#testing the data\n",
    "\n",
    "gnb.fit(x_train,y_train)\n",
    "gnb.score(x_train,y_train)\n",
    "predgnb = gnb.predict(x_test)\n",
    "\n",
    "\n",
    "print(\"\\n=======================Test Result===========================\")\n",
    "print(f\"Accuracy score:{accuracy_score(y_test,predgnb)*100:.2f}%\")\n",
    "print(\"_______________________________________________________________\")\n",
    "print(f\"CLASSIFICATION REPORT:\\n\",(classification_report(y_test,predgnb)))\n",
    "print(\"________________________________________________________________\")\n",
    "print(f\" Confusion Matrix:\\n{confusion_matrix(y_test,predgnb)}\\n\")\n",
    "print('\\n')\n",
    "print('Roc_auc Score',roc_auc_score(y_test,predgnb))"
   ]
  },
  {
   "cell_type": "markdown",
   "id": "5a7cab22",
   "metadata": {},
   "source": [
    "#### 5)Support Vector Classifier(SVM)"
   ]
  },
  {
   "cell_type": "code",
   "execution_count": 85,
   "id": "d850bc3d",
   "metadata": {},
   "outputs": [],
   "source": [
    "svc = SVC()"
   ]
  },
  {
   "cell_type": "code",
   "execution_count": 86,
   "id": "e30cbf10",
   "metadata": {},
   "outputs": [
    {
     "name": "stdout",
     "output_type": "stream",
     "text": [
      "\n",
      "=======================Train Result===========================\n",
      "Accuracy score:67.43%\n",
      "_______________________________________________________________\n",
      "CLASSIFICATION REPORT:\n",
      "               precision    recall  f1-score   support\n",
      "\n",
      "           0       0.73      0.57      0.64       447\n",
      "           1       0.64      0.79      0.70       431\n",
      "\n",
      "    accuracy                           0.67       878\n",
      "   macro avg       0.68      0.68      0.67       878\n",
      "weighted avg       0.69      0.67      0.67       878\n",
      "\n",
      "________________________________________________________________\n",
      " Confusion Matrix:\n",
      "[[253 194]\n",
      " [ 92 339]]\n",
      "\n",
      "\n",
      "\n",
      "Roc_auc Score 0.676269224580472\n"
     ]
    }
   ],
   "source": [
    "# training the data\n",
    "svc.fit(x_train,y_train)\n",
    "predsvc = svc.predict(x_train)\n",
    "\n",
    "print(\"\\n=======================Train Result===========================\")\n",
    "print(f\"Accuracy score:{accuracy_score(y_train,predsvc)*100:.2f}%\")\n",
    "print(\"_______________________________________________________________\")\n",
    "print(f\"CLASSIFICATION REPORT:\\n\",(classification_report(y_train,predsvc)))\n",
    "print(\"________________________________________________________________\")\n",
    "print(f\" Confusion Matrix:\\n{confusion_matrix(y_train,predsvc)}\\n\")\n",
    "print('\\n')\n",
    "print('Roc_auc Score',roc_auc_score(y_train,predsvc))"
   ]
  },
  {
   "cell_type": "code",
   "execution_count": 87,
   "id": "51fb6afb",
   "metadata": {},
   "outputs": [
    {
     "name": "stdout",
     "output_type": "stream",
     "text": [
      "\n",
      "=======================Test Result===========================\n",
      "Accuracy score:70.91%\n",
      "_______________________________________________________________\n",
      "CLASSIFICATION REPORT:\n",
      "               precision    recall  f1-score   support\n",
      "\n",
      "           0       0.73      0.60      0.66       102\n",
      "           1       0.70      0.81      0.75       118\n",
      "\n",
      "    accuracy                           0.71       220\n",
      "   macro avg       0.71      0.70      0.70       220\n",
      "weighted avg       0.71      0.71      0.71       220\n",
      "\n",
      "________________________________________________________________\n",
      " Confusion Matrix:\n",
      "[[61 41]\n",
      " [23 95]]\n",
      "\n",
      "\n",
      "\n",
      "Roc_auc Score 0.7015619807244933\n"
     ]
    }
   ],
   "source": [
    "#testing the data\n",
    "\n",
    "svc.fit(x_train,y_train)\n",
    "svc.score(x_train,y_train)\n",
    "predsvc =svc.predict(x_test)\n",
    "\n",
    "\n",
    "print(\"\\n=======================Test Result===========================\")\n",
    "print(f\"Accuracy score:{accuracy_score(y_test,predsvc)*100:.2f}%\")\n",
    "print(\"_______________________________________________________________\")\n",
    "print(f\"CLASSIFICATION REPORT:\\n\",(classification_report(y_test,predsvc)))\n",
    "print(\"________________________________________________________________\")\n",
    "print(f\" Confusion Matrix:\\n{confusion_matrix(y_test,predsvc)}\\n\")\n",
    "print('\\n')\n",
    "print('Roc_auc Score',roc_auc_score(y_test,predsvc))"
   ]
  },
  {
   "cell_type": "markdown",
   "id": "b5be3ea5",
   "metadata": {},
   "source": [
    "#### 6)Random Forest Classifier"
   ]
  },
  {
   "cell_type": "code",
   "execution_count": 88,
   "id": "ce0db73a",
   "metadata": {},
   "outputs": [],
   "source": [
    "rfc = RandomForestClassifier()"
   ]
  },
  {
   "cell_type": "code",
   "execution_count": 89,
   "id": "50430ca1",
   "metadata": {},
   "outputs": [
    {
     "name": "stdout",
     "output_type": "stream",
     "text": [
      "\n",
      "=======================Train Result===========================\n",
      "Accuracy score:98.29%\n",
      "_______________________________________________________________\n",
      "CLASSIFICATION REPORT:\n",
      "               precision    recall  f1-score   support\n",
      "\n",
      "           0       0.98      0.99      0.98       447\n",
      "           1       0.99      0.98      0.98       431\n",
      "\n",
      "    accuracy                           0.98       878\n",
      "   macro avg       0.98      0.98      0.98       878\n",
      "weighted avg       0.98      0.98      0.98       878\n",
      "\n",
      "________________________________________________________________\n",
      " Confusion Matrix:\n",
      "[[442   5]\n",
      " [ 10 421]]\n",
      "\n",
      "\n",
      "\n",
      "Roc_auc Score 0.9828062307624432\n"
     ]
    }
   ],
   "source": [
    "# Training the data\n",
    "\n",
    "rfc.fit(x_train,y_train)\n",
    "predrfc=rfc.predict(x_train)\n",
    "\n",
    "print(\"\\n=======================Train Result===========================\")\n",
    "print(f\"Accuracy score:{accuracy_score(y_train,predrfc)*100:.2f}%\")\n",
    "print(\"_______________________________________________________________\")\n",
    "print(f\"CLASSIFICATION REPORT:\\n\",(classification_report(y_train,predrfc)))\n",
    "print(\"________________________________________________________________\")\n",
    "print(f\" Confusion Matrix:\\n{confusion_matrix(y_train,predrfc)}\\n\")\n",
    "print('\\n')\n",
    "print('Roc_auc Score',roc_auc_score(y_train,predrfc))"
   ]
  },
  {
   "cell_type": "code",
   "execution_count": 90,
   "id": "eff46f2a",
   "metadata": {},
   "outputs": [
    {
     "name": "stdout",
     "output_type": "stream",
     "text": [
      "\n",
      "=======================Test Result===========================\n",
      "Accuracy score:84.55%\n",
      "_______________________________________________________________\n",
      "CLASSIFICATION REPORT:\n",
      "               precision    recall  f1-score   support\n",
      "\n",
      "           0       0.85      0.80      0.83       102\n",
      "           1       0.84      0.88      0.86       118\n",
      "\n",
      "    accuracy                           0.85       220\n",
      "   macro avg       0.85      0.84      0.84       220\n",
      "weighted avg       0.85      0.85      0.85       220\n",
      "\n",
      "________________________________________________________________\n",
      " Confusion Matrix:\n",
      "[[ 82  20]\n",
      " [ 14 104]]\n",
      "\n",
      "\n",
      "\n",
      "Roc_auc Score 0.8426387504154204\n"
     ]
    }
   ],
   "source": [
    "#testing the data\n",
    "\n",
    "rfc.fit(x_train,y_train)\n",
    "rfc.score(x_train,y_train)\n",
    "predrfc = rfc.predict(x_test)\n",
    "\n",
    "\n",
    "print(\"\\n=======================Test Result===========================\")\n",
    "print(f\"Accuracy score:{accuracy_score(y_test,predrfc)*100:.2f}%\")\n",
    "print(\"_______________________________________________________________\")\n",
    "print(f\"CLASSIFICATION REPORT:\\n\",(classification_report(y_test,predrfc)))\n",
    "print(\"________________________________________________________________\")\n",
    "print(f\" Confusion Matrix:\\n{confusion_matrix(y_test,predrfc)}\\n\")\n",
    "print('\\n')\n",
    "print('Roc_auc Score',roc_auc_score(y_test,predrfc))"
   ]
  },
  {
   "cell_type": "markdown",
   "id": "da3447bf",
   "metadata": {},
   "source": [
    "#### 7) Adaboost Classifier"
   ]
  },
  {
   "cell_type": "code",
   "execution_count": 91,
   "id": "5ba315f0",
   "metadata": {},
   "outputs": [],
   "source": [
    "adb=AdaBoostClassifier()"
   ]
  },
  {
   "cell_type": "code",
   "execution_count": 92,
   "id": "eaa9336e",
   "metadata": {},
   "outputs": [
    {
     "name": "stdout",
     "output_type": "stream",
     "text": [
      "\n",
      "=======================Train Result===========================\n",
      "Accuracy score:83.94%\n",
      "_______________________________________________________________\n",
      "CLASSIFICATION REPORT:\n",
      "               precision    recall  f1-score   support\n",
      "\n",
      "           0       0.83      0.86      0.84       447\n",
      "           1       0.85      0.82      0.83       431\n",
      "\n",
      "    accuracy                           0.84       878\n",
      "   macro avg       0.84      0.84      0.84       878\n",
      "weighted avg       0.84      0.84      0.84       878\n",
      "\n",
      "________________________________________________________________\n",
      " Confusion Matrix:\n",
      "[[383  64]\n",
      " [ 77 354]]\n",
      "\n",
      "\n",
      "\n",
      "Roc_auc Score 0.8390844869379259\n"
     ]
    }
   ],
   "source": [
    "# Training the data\n",
    "\n",
    "adb.fit(x_train,y_train)\n",
    "predadb= adb.predict(x_train)\n",
    "\n",
    "print(\"\\n=======================Train Result===========================\")\n",
    "print(f\"Accuracy score:{accuracy_score(y_train,predadb)*100:.2f}%\")\n",
    "print(\"_______________________________________________________________\")\n",
    "print(f\"CLASSIFICATION REPORT:\\n\",(classification_report(y_train,predadb)))\n",
    "print(\"________________________________________________________________\")\n",
    "print(f\" Confusion Matrix:\\n{confusion_matrix(y_train,predadb)}\\n\")\n",
    "print('\\n')\n",
    "print('Roc_auc Score',roc_auc_score(y_train,predadb))"
   ]
  },
  {
   "cell_type": "code",
   "execution_count": 93,
   "id": "f2cb01f9",
   "metadata": {},
   "outputs": [
    {
     "name": "stdout",
     "output_type": "stream",
     "text": [
      "\n",
      "=======================Test Result===========================\n",
      "Accuracy score:83.64%\n",
      "_______________________________________________________________\n",
      "CLASSIFICATION REPORT:\n",
      "               precision    recall  f1-score   support\n",
      "\n",
      "           0       0.82      0.82      0.82       102\n",
      "           1       0.85      0.85      0.85       118\n",
      "\n",
      "    accuracy                           0.84       220\n",
      "   macro avg       0.84      0.84      0.84       220\n",
      "weighted avg       0.84      0.84      0.84       220\n",
      "\n",
      "________________________________________________________________\n",
      " Confusion Matrix:\n",
      "[[ 84  18]\n",
      " [ 18 100]]\n",
      "\n",
      "\n",
      "\n",
      "Roc_auc Score 0.8354935194416749\n"
     ]
    }
   ],
   "source": [
    "#testing the data\n",
    "\n",
    "adb.fit(x_train,y_train)\n",
    "adb.score(x_train,y_train)\n",
    "predadb = adb.predict(x_test)\n",
    "\n",
    "\n",
    "print(\"\\n=======================Test Result===========================\")\n",
    "print(f\"Accuracy score:{accuracy_score(y_test,predadb)*100:.2f}%\")\n",
    "print(\"_______________________________________________________________\")\n",
    "print(f\"CLASSIFICATION REPORT:\\n\",(classification_report(y_test,predadb)))\n",
    "print(\"________________________________________________________________\")\n",
    "print(f\" Confusion Matrix:\\n{confusion_matrix(y_test,predadb)}\\n\")\n",
    "print('\\n')\n",
    "print('Roc_auc Score',roc_auc_score(y_test,predadb))"
   ]
  },
  {
   "cell_type": "markdown",
   "id": "1881f235",
   "metadata": {},
   "source": [
    "#### 8) GRADIENT BOOST CLASSIFIER"
   ]
  },
  {
   "cell_type": "code",
   "execution_count": 94,
   "id": "9a7c86a0",
   "metadata": {},
   "outputs": [],
   "source": [
    "gbc=GradientBoostingClassifier()"
   ]
  },
  {
   "cell_type": "code",
   "execution_count": 95,
   "id": "05cc89d8",
   "metadata": {},
   "outputs": [
    {
     "name": "stdout",
     "output_type": "stream",
     "text": [
      "\n",
      "=======================Train Result===========================\n",
      "Accuracy score:89.52%\n",
      "_______________________________________________________________\n",
      "CLASSIFICATION REPORT:\n",
      "               precision    recall  f1-score   support\n",
      "\n",
      "           0       0.88      0.92      0.90       447\n",
      "           1       0.91      0.87      0.89       431\n",
      "\n",
      "    accuracy                           0.90       878\n",
      "   macro avg       0.90      0.89      0.90       878\n",
      "weighted avg       0.90      0.90      0.90       878\n",
      "\n",
      "________________________________________________________________\n",
      " Confusion Matrix:\n",
      "[[410  37]\n",
      " [ 55 376]]\n",
      "\n",
      "\n",
      "\n",
      "Roc_auc Score 0.8948078709831461\n"
     ]
    }
   ],
   "source": [
    "# Training the data\n",
    "\n",
    "gbc.fit(x_train,y_train)\n",
    "predgbc= gbc.predict(x_train)\n",
    "\n",
    "print(\"\\n=======================Train Result===========================\")\n",
    "print(f\"Accuracy score:{accuracy_score(y_train,predgbc)*100:.2f}%\")\n",
    "print(\"_______________________________________________________________\")\n",
    "print(f\"CLASSIFICATION REPORT:\\n\",(classification_report(y_train,predgbc)))\n",
    "print(\"________________________________________________________________\")\n",
    "print(f\" Confusion Matrix:\\n{confusion_matrix(y_train,predgbc)}\\n\")\n",
    "print('\\n')\n",
    "print('Roc_auc Score',roc_auc_score(y_train,predgbc))"
   ]
  },
  {
   "cell_type": "code",
   "execution_count": 96,
   "id": "e20159a2",
   "metadata": {},
   "outputs": [
    {
     "name": "stdout",
     "output_type": "stream",
     "text": [
      "\n",
      "=======================Test Result===========================\n",
      "Accuracy score:85.45%\n",
      "_______________________________________________________________\n",
      "CLASSIFICATION REPORT:\n",
      "               precision    recall  f1-score   support\n",
      "\n",
      "           0       0.82      0.87      0.85       102\n",
      "           1       0.88      0.84      0.86       118\n",
      "\n",
      "    accuracy                           0.85       220\n",
      "   macro avg       0.85      0.86      0.85       220\n",
      "weighted avg       0.86      0.85      0.85       220\n",
      "\n",
      "________________________________________________________________\n",
      " Confusion Matrix:\n",
      "[[89 13]\n",
      " [19 99]]\n",
      "\n",
      "\n",
      "\n",
      "Roc_auc Score 0.8557660352276504\n"
     ]
    }
   ],
   "source": [
    "#testing the data\n",
    "\n",
    "gbc.fit(x_train,y_train)\n",
    "gbc.score(x_train,y_train)\n",
    "predgbc = gbc.predict(x_test)\n",
    "\n",
    "\n",
    "print(\"\\n=======================Test Result===========================\")\n",
    "print(f\"Accuracy score:{accuracy_score(y_test,predgbc)*100:.2f}%\")\n",
    "print(\"_______________________________________________________________\")\n",
    "print(f\"CLASSIFICATION REPORT:\\n\",(classification_report(y_test,predgbc)))\n",
    "print(\"________________________________________________________________\")\n",
    "print(f\" Confusion Matrix:\\n{confusion_matrix(y_test,predgbc)}\\n\")\n",
    "print('\\n')\n",
    "print('Roc_auc Score',roc_auc_score(y_test,predgbc))"
   ]
  },
  {
   "cell_type": "markdown",
   "id": "f1d6aca6",
   "metadata": {},
   "source": [
    "#### Key Observations-\n",
    "\n",
    "The Test accuracy score of all the different models are -\n",
    "\n",
    "1)Logistic regression - 81.2 %\n",
    "\n",
    "2)Decision Tree Classifier - 82.7%\n",
    "\n",
    "3)K-Neighbors Classifier -80.9 %\n",
    "\n",
    "4)Naive Bayes-82.2 %\n",
    "\n",
    "5)Support Vector Classifier - 70.9 %\n",
    "\n",
    "6)Random Forest Classifier - 84.5 %\n",
    "\n",
    "7)Ada Boost Classifier- 83.6 %\n",
    "\n",
    "8)Gradient boost Classifier -85.4 %\n",
    "\n",
    "\n",
    "- This shows that Gradient boost Classifier is best fit model with best accuracy score for our model.So, moving ahead for Cross validation ."
   ]
  },
  {
   "cell_type": "markdown",
   "id": "4808c216",
   "metadata": {},
   "source": [
    "#### CROSS-VALIDATION-"
   ]
  },
  {
   "cell_type": "code",
   "execution_count": 97,
   "id": "e805ee47",
   "metadata": {},
   "outputs": [
    {
     "name": "stdout",
     "output_type": "stream",
     "text": [
      "[0.75454545 0.81818182 0.77727273 0.88584475 0.89041096]\n",
      "0.8252511415525113\n"
     ]
    }
   ],
   "source": [
    "#CV score of Random forest classifier-\n",
    "\n",
    "score = cross_val_score(rfc,x,y,cv=5)\n",
    "print(score)\n",
    "print(score.mean())"
   ]
  },
  {
   "cell_type": "code",
   "execution_count": 98,
   "id": "28435b10",
   "metadata": {},
   "outputs": [
    {
     "name": "stdout",
     "output_type": "stream",
     "text": [
      "Accuracy score : 0.8454545454545455\n",
      "CV Score of RF:82.25%\n",
      "\n",
      "\n",
      "The difference between accuracy score and Cross Validation score is: 0.020203403902034123\n"
     ]
    }
   ],
   "source": [
    "\n",
    "print(\"Accuracy score :\", accuracy_score(y_test,predrfc))\n",
    "print(f\"CV Score of RF:{cross_val_score(rfc,x,y,cv=5).mean()*100:.2f}%\")\n",
    "print('\\n')\n",
    "print('The difference between accuracy score and Cross Validation score is:',accuracy_score(y_test,predrfc)-score.mean())"
   ]
  },
  {
   "cell_type": "code",
   "execution_count": 113,
   "id": "41a03a7a",
   "metadata": {},
   "outputs": [
    {
     "name": "stdout",
     "output_type": "stream",
     "text": [
      "[0.75       0.82727273 0.79090909 0.90410959 0.89041096]\n",
      "0.8325404732254047\n",
      "Accuracy score : 0.8545454545454545\n",
      "CV score of GB:83.16%\n",
      "\n",
      "\n",
      "The difference between accuracy score and Cross Validation score is: 0.0220049813200498\n"
     ]
    }
   ],
   "source": [
    "#CV Score of Gradient Boosting Classifier - \n",
    "score = cross_val_score(gbc,x,y,cv=5)\n",
    "print(score)\n",
    "print(score.mean())\n",
    "print(\"Accuracy score :\", accuracy_score(y_test,predgbc))\n",
    "\n",
    "print(f\"CV score of GB:{cross_val_score(gbc,x,y,cv = 5).mean()*100:.2f}%\")\n",
    "print('\\n')\n",
    "print('The difference between accuracy score and Cross Validation score is:',accuracy_score(y_test,predgbc)-score.mean())"
   ]
  },
  {
   "cell_type": "code",
   "execution_count": 115,
   "id": "20ab179d",
   "metadata": {},
   "outputs": [
    {
     "name": "stdout",
     "output_type": "stream",
     "text": [
      "[0.64090909 0.75454545 0.75454545 0.77625571 0.80365297]\n",
      "0.7459817351598172\n",
      "Accuracy score : 0.8090909090909091\n",
      "CV Score of KNN:74.60%\n",
      "\n",
      "\n",
      "The difference between accuracy score and Cross Validation score is: 0.06310917393109183\n"
     ]
    }
   ],
   "source": [
    "#CV Score of K-Neighbors Classifier-\n",
    "\n",
    "score = cross_val_score(knn,x,y,cv=5)\n",
    "print(score)\n",
    "print(score.mean())\n",
    "print(\"Accuracy score :\", accuracy_score(y_test,predknn))\n",
    "\n",
    "print(f\"CV Score of KNN:{cross_val_score(knn,x,y,cv = 5).mean()*100:.2f}%\")\n",
    "print('\\n')\n",
    "print('The difference between accuracy score and Cross Validation score is:',accuracy_score(y_test,predknn)-score.mean())"
   ]
  },
  {
   "cell_type": "code",
   "execution_count": 116,
   "id": "2137069c",
   "metadata": {},
   "outputs": [
    {
     "name": "stdout",
     "output_type": "stream",
     "text": [
      "[0.7        0.81818182 0.78181818 0.8630137  0.8630137 ]\n",
      "0.8052054794520547\n",
      "Accuracy score : 0.8272727272727273\n",
      "CV Score of DT:79.52%\n",
      "\n",
      "\n",
      "The difference between accuracy score and Cross Validation score is: 0.022067247820672597\n"
     ]
    }
   ],
   "source": [
    "#CV Score of Decision Tree Classifier - \n",
    "\n",
    "score = cross_val_score(dt,x,y,cv=5)\n",
    "print(score)\n",
    "print(score.mean())\n",
    "\n",
    "print(\"Accuracy score :\", accuracy_score(y_test,preddt))\n",
    "\n",
    "print(f\"CV Score of DT:{cross_val_score(dt,x,y,cv = 5).mean()*100:.2f}%\")\n",
    "print('\\n')\n",
    "print('The difference between accuracy score and Cross Validation score is:',accuracy_score(y_test,preddt)-score.mean())"
   ]
  },
  {
   "cell_type": "code",
   "execution_count": 117,
   "id": "61f0e0b0",
   "metadata": {},
   "outputs": [
    {
     "name": "stdout",
     "output_type": "stream",
     "text": [
      "[0.59545455 0.68636364 0.72272727 0.69406393 0.71689498]\n",
      "0.6831008717310086\n",
      "Accuracy score : 0.7090909090909091\n",
      "CV Score of SVC:68.31%\n",
      "\n",
      "\n",
      "The difference between accuracy score and Cross Validation score is: 0.025990037359900464\n"
     ]
    }
   ],
   "source": [
    "#CV Score of Support Vector Classifier - \n",
    "\n",
    "score = cross_val_score(svc,x,y,cv=5)\n",
    "print(score)\n",
    "print(score.mean())\n",
    "print(\"Accuracy score :\", accuracy_score(y_test,predsvc))\n",
    "\n",
    "print(f\"CV Score of SVC:{cross_val_score(svc,x,y,cv = 5).mean()*100:.2f}%\")\n",
    "print('\\n')\n",
    "print('The difference between accuracy score and Cross Validation score is:',accuracy_score(y_test,predsvc)-score.mean())"
   ]
  },
  {
   "cell_type": "code",
   "execution_count": 118,
   "id": "3be5eca7",
   "metadata": {},
   "outputs": [
    {
     "name": "stdout",
     "output_type": "stream",
     "text": [
      "[0.73636364 0.76818182 0.76818182 0.86757991 0.88127854]\n",
      "0.8043171440431713\n",
      "Accuracy score : 0.8227272727272728\n",
      "CV Score of NB:80.43%\n",
      "\n",
      "\n",
      "The difference between accuracy score and Cross Validation score is: 0.018410128684101412\n"
     ]
    }
   ],
   "source": [
    "#CV Score of Naive Bayes Classifier - \n",
    "\n",
    "score = cross_val_score(gnb,x,y,cv=5)\n",
    "print(score)\n",
    "print(score.mean())\n",
    "\n",
    "print(\"Accuracy score :\", accuracy_score(y_test,predgnb))\n",
    "\n",
    "print(f\"CV Score of NB:{cross_val_score(gnb,x,y,cv = 5).mean()*100:.2f}%\")\n",
    "print('\\n')\n",
    "print('The difference between accuracy score and Cross Validation score is:',accuracy_score(y_test,predgnb)-score.mean())"
   ]
  },
  {
   "cell_type": "code",
   "execution_count": 119,
   "id": "9ef6abba",
   "metadata": {},
   "outputs": [
    {
     "name": "stdout",
     "output_type": "stream",
     "text": [
      "[0.73181818 0.77727273 0.73636364 0.84931507 0.88584475]\n",
      "0.7961228725612286\n",
      "Accuracy score : 0.8181818181818182\n",
      "CV Score of LR:79.61%\n",
      "\n",
      "\n",
      "The difference between accuracy score and Cross Validation score is: 0.02205894562058963\n"
     ]
    }
   ],
   "source": [
    "#CV Score of logistic regression - \n",
    "\n",
    "score = cross_val_score(lg,x,y,cv=5)\n",
    "print(score)\n",
    "print(score.mean())\n",
    "print(\"Accuracy score :\", accuracy_score(y_test,predlg))\n",
    "\n",
    "print(f\"CV Score of LR:{cross_val_score(lg,x,y,cv = 5).mean()*100:.2f}%\")\n",
    "print('\\n')\n",
    "print('The difference between accuracy score and Cross Validation score is:',accuracy_score(y_test,predlg)-score.mean())"
   ]
  },
  {
   "cell_type": "code",
   "execution_count": 120,
   "id": "05243768",
   "metadata": {},
   "outputs": [
    {
     "name": "stdout",
     "output_type": "stream",
     "text": [
      "[0.73636364 0.83181818 0.76363636 0.91324201 0.87671233]\n",
      "0.8243545039435449\n",
      "Accuracy score : 0.8363636363636363\n",
      "CV Score of ADA:82.44%\n",
      "\n",
      "\n",
      "The difference between accuracy score and Cross Validation score is: 0.012009132420091384\n"
     ]
    }
   ],
   "source": [
    "#CV Score of ADA boost Classifier - \n",
    "\n",
    "score = cross_val_score(adb,x,y,cv=5)\n",
    "print(score)\n",
    "print(score.mean())\n",
    "\n",
    "print(\"Accuracy score :\", accuracy_score(y_test,predadb))\n",
    "\n",
    "print(f\"CV Score of ADA:{cross_val_score(adb,x,y,cv = 5).mean()*100:.2f}%\")\n",
    "print('\\n')\n",
    "print('The difference between accuracy score and Cross Validation score is:',accuracy_score(y_test,predadb)-score.mean())"
   ]
  },
  {
   "cell_type": "markdown",
   "id": "be8d7292",
   "metadata": {},
   "source": [
    "- Now,It is clear that  ADA boost Classifier fits best for our model because the difference between accuracy score and Cross validation score is minimum which shows that our Model is not overfit and best among all."
   ]
  },
  {
   "cell_type": "markdown",
   "id": "cecb265d",
   "metadata": {},
   "source": [
    "### Hyperparameter Tuning of  ADA boost Classifier"
   ]
  },
  {
   "cell_type": "code",
   "execution_count": 121,
   "id": "6877ca42",
   "metadata": {},
   "outputs": [],
   "source": [
    "adb=AdaBoostClassifier()"
   ]
  },
  {
   "cell_type": "code",
   "execution_count": 122,
   "id": "7ae27cbe",
   "metadata": {},
   "outputs": [],
   "source": [
    "param={'algorithm' : ['SAMME.R','SAMME'],\n",
    "    'n_estimators':[10,25,50,100],\n",
    "    'learning_rate':[0.1,0.5,1.0]}"
   ]
  },
  {
   "cell_type": "code",
   "execution_count": 123,
   "id": "b2286ee1",
   "metadata": {},
   "outputs": [
    {
     "name": "stdout",
     "output_type": "stream",
     "text": [
      "Accuracy after parameter tuning:: 0.8454545454545455\n"
     ]
    },
    {
     "data": {
      "text/plain": [
       "{'algorithm': 'SAMME.R', 'learning_rate': 1.0, 'n_estimators': 100}"
      ]
     },
     "execution_count": 123,
     "metadata": {},
     "output_type": "execute_result"
    }
   ],
   "source": [
    "adb_grid=GridSearchCV(AdaBoostClassifier(),param,cv=5,scoring='accuracy')\n",
    "adb_grid.fit(x_train,y_train)\n",
    "adb_pred=adb_grid.best_estimator_.predict(x_test)\n",
    "print(\"Accuracy after parameter tuning::\",accuracy_score(y_test,adb_pred))\n",
    "adb_grid.best_params_"
   ]
  },
  {
   "cell_type": "code",
   "execution_count": 124,
   "id": "291320d3",
   "metadata": {},
   "outputs": [
    {
     "name": "stdout",
     "output_type": "stream",
     "text": [
      "\n",
      "\n",
      "Accuracy Score 84.54545454545455\n",
      "\n",
      "\n",
      "Confusion Matrix\n",
      "[[ 85  17]\n",
      " [ 17 101]]\n",
      "\n",
      "\n",
      "Classification Report\n",
      "              precision    recall  f1-score   support\n",
      "\n",
      "           0       0.83      0.83      0.83       102\n",
      "           1       0.86      0.86      0.86       118\n",
      "\n",
      "    accuracy                           0.85       220\n",
      "   macro avg       0.84      0.84      0.84       220\n",
      "weighted avg       0.85      0.85      0.85       220\n",
      "\n",
      "\n",
      "\n",
      "Roc_auc Score 0.844632768361582\n"
     ]
    }
   ],
   "source": [
    "Final_model = AdaBoostClassifier(algorithm ='SAMME.R',learning_rate=1.0,n_estimators= 100)\n",
    "Final_model.fit(x_train,y_train)\n",
    "pred=Final_model.predict(x_test)\n",
    "\n",
    "print('\\n')\n",
    "print('Accuracy Score',accuracy_score(y_test,pred)*100)\n",
    "print('\\n')\n",
    "print('Confusion Matrix')\n",
    "print(confusion_matrix(y_test,pred))\n",
    "print('\\n')\n",
    "print('Classification Report')\n",
    "print(classification_report(y_test,pred))\n",
    "print('\\n')\n",
    "print('Roc_auc Score',roc_auc_score(y_test,pred))"
   ]
  },
  {
   "cell_type": "markdown",
   "id": "354c04ae",
   "metadata": {},
   "source": [
    "- we have improved our accuracy score so we will save this as our best model."
   ]
  },
  {
   "cell_type": "code",
   "execution_count": 126,
   "id": "adb6323f",
   "metadata": {},
   "outputs": [
    {
     "data": {
      "text/plain": [
       "<AxesSubplot:>"
      ]
     },
     "execution_count": 126,
     "metadata": {},
     "output_type": "execute_result"
    },
    {
     "data": {
      "image/png": "[encoded data removed]",
      "text/plain": [
       "<Figure size 432x288 with 2 Axes>"
      ]
     },
     "metadata": {},
     "output_type": "display_data"
    }
   ],
   "source": [
    "clf_repo = classification_report(y_test,adb_pred,output_dict=True)\n",
    "sns.heatmap(pd.DataFrame(clf_repo).T,annot=True)"
   ]
  },
  {
   "cell_type": "markdown",
   "id": "0457dc60",
   "metadata": {},
   "source": [
    "#### ROC_CURVE"
   ]
  },
  {
   "cell_type": "code",
   "execution_count": 131,
   "id": "85f64021",
   "metadata": {},
   "outputs": [
    {
     "data": {
      "text/plain": [
       "array([0.        , 0.16666667, 1.        ])"
      ]
     },
     "execution_count": 131,
     "metadata": {},
     "output_type": "execute_result"
    }
   ],
   "source": [
    "#plotting ROC CURVE\n",
    "\n",
    "from sklearn.metrics import roc_curve,auc,roc_auc_score\n",
    "\n",
    "fpr,tpr,thresholds= roc_curve(y_test,adb_pred)\n",
    "fpr\n"
   ]
  },
  {
   "cell_type": "code",
   "execution_count": 132,
   "id": "82704203",
   "metadata": {},
   "outputs": [
    {
     "data": {
      "text/plain": [
       "array([0.       , 0.8559322, 1.       ])"
      ]
     },
     "execution_count": 132,
     "metadata": {},
     "output_type": "execute_result"
    }
   ],
   "source": [
    "tpr"
   ]
  },
  {
   "cell_type": "code",
   "execution_count": 133,
   "id": "bfc15c80",
   "metadata": {},
   "outputs": [
    {
     "data": {
      "text/plain": [
       "array([2, 1, 0], dtype=int64)"
      ]
     },
     "execution_count": 133,
     "metadata": {},
     "output_type": "execute_result"
    }
   ],
   "source": [
    "thresholds"
   ]
  },
  {
   "cell_type": "code",
   "execution_count": 139,
   "id": "e5e966ca",
   "metadata": {},
   "outputs": [
    {
     "data": {
      "text/plain": [
       "<matplotlib.legend.Legend at 0x2a06c6aeb80>"
      ]
     },
     "execution_count": 139,
     "metadata": {},
     "output_type": "execute_result"
    },
    {
     "data": {
      "image/png": "[encoded data removed]",
      "text/plain": [
       "<Figure size 432x288 with 1 Axes>"
      ]
     },
     "metadata": {},
     "output_type": "display_data"
    }
   ],
   "source": [
    "plt.plot([0,1],[0,1],'k--',color='navy',lw=3)\n",
    "plt.plot(fpr,tpr,color= 'darkorange',lw=5,label='AdaBoostClassifier')\n",
    "plt.title('ROC curve of ADA BOOST CLASSIFIER')\n",
    "plt.xlabel('False Positive Rate')\n",
    "plt.ylabel('True Positive Rate')\n",
    "plt.legend(loc='best')"
   ]
  },
  {
   "cell_type": "markdown",
   "id": "d540dbc5",
   "metadata": {},
   "source": [
    "### SAVING THE MODEL"
   ]
  },
  {
   "cell_type": "code",
   "execution_count": 145,
   "id": "25fd5b5d",
   "metadata": {},
   "outputs": [
    {
     "data": {
      "text/plain": [
       "['titanic_G.pkl']"
      ]
     },
     "execution_count": 145,
     "metadata": {},
     "output_type": "execute_result"
    }
   ],
   "source": [
    "import joblib\n",
    "joblib.dump(adb_grid,'titanic_G.pkl')"
   ]
  },
  {
   "cell_type": "markdown",
   "id": "9688d924",
   "metadata": {},
   "source": [
    "#### LOAD THE MODEL"
   ]
  },
  {
   "cell_type": "code",
   "execution_count": 148,
   "id": "61bf105a",
   "metadata": {},
   "outputs": [
    {
     "data": {
      "text/plain": [
       "array([0, 1, 1, 1, 0, 0, 1, 0, 1, 0, 0, 1, 0, 1, 1, 0, 1, 1, 0, 1, 0, 0,\n",
       "       1, 1, 1, 1, 0, 1, 1, 1, 1, 1, 0, 1, 1, 0, 1, 1, 1, 0, 1, 0, 1, 1,\n",
       "       0, 1, 0, 0, 1, 1, 1, 1, 0, 0, 1, 0, 1, 1, 1, 1, 1, 1, 1, 1, 0, 0,\n",
       "       1, 1, 0, 0, 1, 0, 0, 1, 0, 0, 0, 0, 0, 0, 1, 1, 1, 0, 0, 1, 0, 1,\n",
       "       1, 1, 0, 0, 0, 1, 0, 1, 1, 0, 1, 1, 1, 0, 0, 1, 0, 1, 0, 0, 0, 0,\n",
       "       1, 0, 1, 0, 1, 0, 0, 0, 1, 0, 1, 1, 1, 0, 0, 1, 1, 1, 0, 0, 0, 1,\n",
       "       0, 1, 0, 0, 1, 0, 0, 1, 1, 0, 1, 1, 1, 1, 0, 1, 0, 0, 1, 0, 1, 0,\n",
       "       1, 1, 1, 1, 0, 1, 0, 0, 0, 0, 1, 1, 1, 1, 0, 0, 0, 1, 0, 1, 0, 0,\n",
       "       1, 1, 0, 1, 0, 1, 0, 1, 1, 1, 0, 1, 1, 1, 1, 1, 0, 0, 0, 0, 0, 0,\n",
       "       1, 0, 1, 1, 0, 1, 1, 0, 1, 1, 1, 0, 0, 0, 0, 1, 0, 1, 1, 0, 0, 1],\n",
       "      dtype=int64)"
      ]
     },
     "execution_count": 148,
     "metadata": {},
     "output_type": "execute_result"
    }
   ],
   "source": [
    "loaded_model = joblib.load('titanic_G.pkl')\n",
    "loaded_model.predict(x_test)"
   ]
  },
  {
   "cell_type": "markdown",
   "id": "3cec1f35",
   "metadata": {},
   "source": [
    "#### ********* COMPLETED***********"
   ]
  }
 ],
 "metadata": {
  "kernelspec": {
   "display_name": "Python 3 (ipykernel)",
   "language": "python",
   "name": "python3"
  },
  "language_info": {
   "codemirror_mode": {
    "name": "ipython",
    "version": 3
   },
   "file_extension": ".py",
   "mimetype": "text/x-python",
   "name": "python",
   "nbconvert_exporter": "python",
   "pygments_lexer": "ipython3",
   "version": "3.9.12"
  }
 },
 "nbformat": 4,
 "nbformat_minor": 5
}
